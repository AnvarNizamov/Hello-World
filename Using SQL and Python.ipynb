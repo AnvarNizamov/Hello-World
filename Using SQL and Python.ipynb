{
    "cells": [
        {
            "cell_type": "markdown",
            "metadata": {},
            "source": "<center>\n    <img src=\"https://s3-api.us-geo.objectstorage.softlayer.net/cf-courses-data/CognitiveClass/Logos/organization_logo/organization_logo.png\" width=\"300\" alt=\"cognitiveclass.ai logo\"  />\n</center>\n\n# Working with a real world data-set using SQL and Python\n\nEstaimted time needed: **30** minutes\n\n## Objectives\n\nAfter complting this lab you will be able to:\n\n*   Understand the dataset for Chicago Public School level performance\n*   Store the dataset in an Db2 database on IBM Cloud instance\n*   Retrieve metadata about tables and columns and query data from mixed case columns\n*   Solve example problems to practice your SQL skills including using built-in database functions\n"
        },
        {
            "cell_type": "markdown",
            "metadata": {},
            "source": "## Chicago Public Schools - Progress Report Cards (2011-2012)\n\nThe city of Chicago released a dataset showing all school level performance data used to create School Report Cards for the 2011-2012 school year. The dataset is available from the Chicago Data Portal: [https://data.cityofchicago.org/Education/Chicago-Public-Schools-Progress-Report-Cards-2011-/9xs2-f89t](https://data.cityofchicago.org/Education/Chicago-Public-Schools-Progress-Report-Cards-2011-/9xs2-f89t?utm_medium=Exinfluencer&utm_source=Exinfluencer&utm_content=000026UJ&utm_term=10006555&utm_id=NA-SkillsNetwork-Channel-SkillsNetworkCoursesIBMDeveloperSkillsNetworkDB0201ENSkillsNetwork20127838-2021-01-01&cm_mmc=Email_Newsletter-\\_-Developer_Ed%2BTech-\\_-WW_WW-\\_-SkillsNetwork-Courses-IBMDeveloperSkillsNetwork-DB0201EN-SkillsNetwork-20127838&cm_mmca1=000026UJ&cm_mmca2=10006555&cm_mmca3=M12345678&cvosrc=email.Newsletter.M12345678&cvo_campaign=000026UJ)\n\nThis dataset includes a large number of metrics. Start by familiarizing yourself with the types of metrics in the database: [https://data.cityofchicago.org/api/assets/AAD41A13-BE8A-4E67-B1F5-86E711E09D5F?download=true](https://data.cityofchicago.org/api/assets/AAD41A13-BE8A-4E67-B1F5-86E711E09D5F?utm_medium=Exinfluencer&utm_source=Exinfluencer&utm_content=000026UJ&utm_term=10006555&utm_id=NA-SkillsNetwork-Channel-SkillsNetworkCoursesIBMDeveloperSkillsNetworkDB0201ENSkillsNetwork20127838-2021-01-01&download=true&cm_mmc=Email_Newsletter-\\_-Developer_Ed%2BTech-\\_-WW_WW-\\_-SkillsNetwork-Courses-IBMDeveloperSkillsNetwork-DB0201EN-SkillsNetwork-20127838&cm_mmca1=000026UJ&cm_mmca2=10006555&cm_mmca3=M12345678&cvosrc=email.Newsletter.M12345678&cvo_campaign=000026UJ)\n\n**NOTE**:\n\nDo not download the dataset directly from City of Chicago portal. Instead download a static copy which is a more database friendly version from this <a href=\"https://cf-courses-data.s3.us.cloud-object-storage.appdomain.cloud/IBMDeveloperSkillsNetwork-DB0201EN-SkillsNetwork/labs/FinalModule_Coursera_V5/data/ChicagoPublicSchools.csv?utm_medium=Exinfluencer&utm_source=Exinfluencer&utm_content=000026UJ&utm_term=10006555&utm_id=NA-SkillsNetwork-Channel-SkillsNetworkCoursesIBMDeveloperSkillsNetworkDB0201ENSkillsNetwork20127838-2021-01-01\">link</a>.\n\nNow review some of its contents.\n"
        },
        {
            "cell_type": "markdown",
            "metadata": {},
            "source": "### Store the dataset in a Table\n\nIn many cases the dataset to be analyzed is available as a .CSV (comma separated values) file, perhaps on the internet. To analyze the data using SQL, it first needs to be stored in the database.\n\nWhile it is easier to read the dataset into a Pandas dataframe and then PERSIST it into the database as we saw in the previous lab, it results in mapping to default datatypes which may not be optimal for SQL querying. For example a long textual field may map to a CLOB instead of a VARCHAR.\n\nTherefore, **it is highly recommended to manually load the table using the database console LOAD tool, as indicated in Week 2 Lab 1 Part II**. The only difference with that lab is that in Step 5 of the instructions you will need to click on create \"(+) New Table\" and specify the name of the table you want to create and then click \"Next\".\n\n##### Now open the Db2 console, open the LOAD tool, Select / Drag the .CSV file for the CHICAGO PUBLIC SCHOOLS dataset and load the dataset into a new table called **SCHOOLS**.\n\n<a href=\"https://cognitiveclass.ai/?utm_medium=Exinfluencer&utm_source=Exinfluencer&utm_content=000026UJ&utm_term=10006555&utm_id=NA-SkillsNetwork-Channel-SkillsNetworkCoursesIBMDeveloperSkillsNetworkDB0201ENSkillsNetwork20127838-2021-01-01\"><img src = \"https://ibm.box.com/shared/static/uc4xjh1uxcc78ks1i18v668simioz4es.jpg\"></a>\n"
        },
        {
            "cell_type": "markdown",
            "metadata": {},
            "source": "### Connect to the database\n\nLet us now load the ipython-sql  extension and establish a connection with the database\n"
        },
        {
            "cell_type": "code",
            "execution_count": 6,
            "metadata": {},
            "outputs": [
                {
                    "name": "stdout",
                    "output_type": "stream",
                    "text": "Collecting ipython-sql\n  Downloading ipython_sql-0.4.0-py3-none-any.whl (19 kB)\nRequirement already satisfied: sqlalchemy>=0.6.7 in /opt/conda/envs/Python-3.8-main/lib/python3.8/site-packages (from ipython-sql) (1.4.26)\nCollecting sqlparse\n  Downloading sqlparse-0.4.2-py3-none-any.whl (42 kB)\n\u001b[K     |\u2588\u2588\u2588\u2588\u2588\u2588\u2588\u2588\u2588\u2588\u2588\u2588\u2588\u2588\u2588\u2588\u2588\u2588\u2588\u2588\u2588\u2588\u2588\u2588\u2588\u2588\u2588\u2588\u2588\u2588\u2588\u2588| 42 kB 2.1 MB/s  eta 0:00:01\n\u001b[?25hCollecting prettytable<1\n  Downloading prettytable-0.7.2.zip (28 kB)\nRequirement already satisfied: ipython-genutils>=0.1.0 in /opt/conda/envs/Python-3.8-main/lib/python3.8/site-packages (from ipython-sql) (0.2.0)\nRequirement already satisfied: six in /opt/conda/envs/Python-3.8-main/lib/python3.8/site-packages (from ipython-sql) (1.15.0)\nRequirement already satisfied: ipython>=1.0 in /opt/conda/envs/Python-3.8-main/lib/python3.8/site-packages (from ipython-sql) (7.22.0)\nRequirement already satisfied: pexpect>4.3 in /opt/conda/envs/Python-3.8-main/lib/python3.8/site-packages (from ipython>=1.0->ipython-sql) (4.8.0)\nRequirement already satisfied: pygments in /opt/conda/envs/Python-3.8-main/lib/python3.8/site-packages (from ipython>=1.0->ipython-sql) (2.9.0)\nRequirement already satisfied: setuptools>=18.5 in /opt/conda/envs/Python-3.8-main/lib/python3.8/site-packages (from ipython>=1.0->ipython-sql) (52.0.0.post20211006)\nRequirement already satisfied: traitlets>=4.2 in /opt/conda/envs/Python-3.8-main/lib/python3.8/site-packages (from ipython>=1.0->ipython-sql) (5.0.5)\nRequirement already satisfied: prompt-toolkit!=3.0.0,!=3.0.1,<3.1.0,>=2.0.0 in /opt/conda/envs/Python-3.8-main/lib/python3.8/site-packages (from ipython>=1.0->ipython-sql) (3.0.17)\nRequirement already satisfied: backcall in /opt/conda/envs/Python-3.8-main/lib/python3.8/site-packages (from ipython>=1.0->ipython-sql) (0.2.0)\nRequirement already satisfied: decorator in /opt/conda/envs/Python-3.8-main/lib/python3.8/site-packages (from ipython>=1.0->ipython-sql) (5.0.9)\nRequirement already satisfied: pickleshare in /opt/conda/envs/Python-3.8-main/lib/python3.8/site-packages (from ipython>=1.0->ipython-sql) (0.7.5)\nRequirement already satisfied: jedi>=0.16 in /opt/conda/envs/Python-3.8-main/lib/python3.8/site-packages (from ipython>=1.0->ipython-sql) (0.17.2)\nRequirement already satisfied: parso<0.8.0,>=0.7.0 in /opt/conda/envs/Python-3.8-main/lib/python3.8/site-packages (from jedi>=0.16->ipython>=1.0->ipython-sql) (0.7.0)\nRequirement already satisfied: ptyprocess>=0.5 in /opt/conda/envs/Python-3.8-main/lib/python3.8/site-packages (from pexpect>4.3->ipython>=1.0->ipython-sql) (0.7.0)\nRequirement already satisfied: wcwidth in /opt/conda/envs/Python-3.8-main/lib/python3.8/site-packages (from prompt-toolkit!=3.0.0,!=3.0.1,<3.1.0,>=2.0.0->ipython>=1.0->ipython-sql) (0.2.5)\nRequirement already satisfied: greenlet!=0.4.17 in /opt/conda/envs/Python-3.8-main/lib/python3.8/site-packages (from sqlalchemy>=0.6.7->ipython-sql) (1.1.2)\nBuilding wheels for collected packages: prettytable\n  Building wheel for prettytable (setup.py) ... \u001b[?25ldone\n\u001b[?25h  Created wheel for prettytable: filename=prettytable-0.7.2-py3-none-any.whl size=13700 sha256=5eb8bfa031a26a134e48733c7fb555e148bf2bbb3e775d3a89bc3df42283d697\n  Stored in directory: /tmp/wsuser/.cache/pip/wheels/48/6d/77/9517cb933af254f51a446f1a5ec9c2be3e45f17384940bce68\nSuccessfully built prettytable\nInstalling collected packages: sqlparse, prettytable, ipython-sql\nSuccessfully installed ipython-sql-0.4.0 prettytable-0.7.2 sqlparse-0.4.2\nCollecting sqlalchemy==1.3.9\n  Using cached SQLAlchemy-1.3.9-cp38-cp38-linux_x86_64.whl\nInstalling collected packages: sqlalchemy\n  Attempting uninstall: sqlalchemy\n    Found existing installation: SQLAlchemy 1.4.26\n    Uninstalling SQLAlchemy-1.4.26:\n      Successfully uninstalled SQLAlchemy-1.4.26\nSuccessfully installed sqlalchemy-1.3.9\nRequirement already satisfied: ibm_db in /opt/conda/envs/Python-3.8-main/lib/python3.8/site-packages (3.1.0)\nRequirement already satisfied: ibm_db_sa in /opt/conda/envs/Python-3.8-main/lib/python3.8/site-packages (0.3.7)\nRequirement already satisfied: ibm-db>=2.0.0 in /opt/conda/envs/Python-3.8-main/lib/python3.8/site-packages (from ibm_db_sa) (3.1.0)\nRequirement already satisfied: sqlalchemy>=0.7.3 in /opt/conda/envs/Python-3.8-main/lib/python3.8/site-packages (from ibm_db_sa) (1.3.9)\nRequirement already satisfied: ibm-db in /opt/conda/envs/Python-3.8-main/lib/python3.8/site-packages (3.1.0)\nRequirement already satisfied: ibm-db-sa in /opt/conda/envs/Python-3.8-main/lib/python3.8/site-packages (0.3.7)\nRequirement already satisfied: sqlalchemy>=0.7.3 in /opt/conda/envs/Python-3.8-main/lib/python3.8/site-packages (from ibm-db-sa) (1.3.9)\nRequirement already satisfied: ibm-db>=2.0.0 in /opt/conda/envs/Python-3.8-main/lib/python3.8/site-packages (from ibm-db-sa) (3.1.0)\nCollecting ibm_db\n  Using cached ibm_db-3.1.0-cp38-cp38-linux_x86_64.whl\nCollecting ibm_db_sa\n  Using cached ibm_db_sa-0.3.7-py3-none-any.whl\nCollecting ipython-sql\n  Using cached ipython_sql-0.4.0-py3-none-any.whl (19 kB)\nCollecting sqlalchemy==1.3.9\n  Using cached SQLAlchemy-1.3.9-cp38-cp38-linux_x86_64.whl\nCollecting ipython-genutils>=0.1.0\n  Downloading ipython_genutils-0.2.0-py2.py3-none-any.whl (26 kB)\nCollecting prettytable<1\n  Using cached prettytable-0.7.2-py3-none-any.whl\nCollecting six\n  Downloading six-1.16.0-py2.py3-none-any.whl (11 kB)\nCollecting ipython>=1.0\n  Downloading ipython-7.28.0-py3-none-any.whl (788 kB)\n\u001b[K     |\u2588\u2588\u2588\u2588\u2588\u2588\u2588\u2588\u2588\u2588\u2588\u2588\u2588\u2588\u2588\u2588\u2588\u2588\u2588\u2588\u2588\u2588\u2588\u2588\u2588\u2588\u2588\u2588\u2588\u2588\u2588\u2588| 788 kB 70.8 MB/s eta 0:00:01\n\u001b[?25hCollecting sqlparse\n  Using cached sqlparse-0.4.2-py3-none-any.whl (42 kB)\nCollecting pickleshare\n  Downloading pickleshare-0.7.5-py2.py3-none-any.whl (6.9 kB)\nCollecting pygments\n  Downloading Pygments-2.10.0-py3-none-any.whl (1.0 MB)\n\u001b[K     |\u2588\u2588\u2588\u2588\u2588\u2588\u2588\u2588\u2588\u2588\u2588\u2588\u2588\u2588\u2588\u2588\u2588\u2588\u2588\u2588\u2588\u2588\u2588\u2588\u2588\u2588\u2588\u2588\u2588\u2588\u2588\u2588| 1.0 MB 75.8 MB/s eta 0:00:01\n\u001b[?25hCollecting matplotlib-inline\n  Downloading matplotlib_inline-0.1.3-py3-none-any.whl (8.2 kB)\nCollecting traitlets>=4.2\n  Downloading traitlets-5.1.0-py3-none-any.whl (101 kB)\n\u001b[K     |\u2588\u2588\u2588\u2588\u2588\u2588\u2588\u2588\u2588\u2588\u2588\u2588\u2588\u2588\u2588\u2588\u2588\u2588\u2588\u2588\u2588\u2588\u2588\u2588\u2588\u2588\u2588\u2588\u2588\u2588\u2588\u2588| 101 kB 24.1 MB/s ta 0:00:01\n\u001b[?25hCollecting decorator\n  Downloading decorator-5.1.0-py3-none-any.whl (9.1 kB)\nCollecting backcall\n  Downloading backcall-0.2.0-py2.py3-none-any.whl (11 kB)\nCollecting prompt-toolkit!=3.0.0,!=3.0.1,<3.1.0,>=2.0.0\n  Downloading prompt_toolkit-3.0.21-py3-none-any.whl (374 kB)\n\u001b[K     |\u2588\u2588\u2588\u2588\u2588\u2588\u2588\u2588\u2588\u2588\u2588\u2588\u2588\u2588\u2588\u2588\u2588\u2588\u2588\u2588\u2588\u2588\u2588\u2588\u2588\u2588\u2588\u2588\u2588\u2588\u2588\u2588| 374 kB 79.5 MB/s eta 0:00:01\n\u001b[?25hCollecting jedi>=0.16\n  Downloading jedi-0.18.0-py2.py3-none-any.whl (1.4 MB)\n\u001b[K     |\u2588\u2588\u2588\u2588\u2588\u2588\u2588\u2588\u2588\u2588\u2588\u2588\u2588\u2588\u2588\u2588\u2588\u2588\u2588\u2588\u2588\u2588\u2588\u2588\u2588\u2588\u2588\u2588\u2588\u2588\u2588\u2588| 1.4 MB 75.5 MB/s eta 0:00:01\n\u001b[?25hCollecting pexpect>4.3\n  Downloading pexpect-4.8.0-py2.py3-none-any.whl (59 kB)\n\u001b[K     |\u2588\u2588\u2588\u2588\u2588\u2588\u2588\u2588\u2588\u2588\u2588\u2588\u2588\u2588\u2588\u2588\u2588\u2588\u2588\u2588\u2588\u2588\u2588\u2588\u2588\u2588\u2588\u2588\u2588\u2588\u2588\u2588| 59 kB 13.1 MB/s eta 0:00:01\n\u001b[?25hCollecting setuptools>=18.5\n  Using cached setuptools-58.3.0-py3-none-any.whl (946 kB)\nCollecting parso<0.9.0,>=0.8.0\n  Downloading parso-0.8.2-py2.py3-none-any.whl (94 kB)\n\u001b[K     |\u2588\u2588\u2588\u2588\u2588\u2588\u2588\u2588\u2588\u2588\u2588\u2588\u2588\u2588\u2588\u2588\u2588\u2588\u2588\u2588\u2588\u2588\u2588\u2588\u2588\u2588\u2588\u2588\u2588\u2588\u2588\u2588| 94 kB 5.2 MB/s  eta 0:00:01\n\u001b[?25hCollecting ptyprocess>=0.5\n  Downloading ptyprocess-0.7.0-py2.py3-none-any.whl (13 kB)\nCollecting wcwidth\n  Downloading wcwidth-0.2.5-py2.py3-none-any.whl (30 kB)\nInstalling collected packages: wcwidth, traitlets, ptyprocess, parso, setuptools, pygments, prompt-toolkit, pickleshare, pexpect, matplotlib-inline, jedi, decorator, backcall, sqlparse, sqlalchemy, six, prettytable, ipython-genutils, ipython, ibm-db, ipython-sql, ibm-db-sa\n  Attempting uninstall: wcwidth\n    Found existing installation: wcwidth 0.2.5\n    Uninstalling wcwidth-0.2.5:\n      Successfully uninstalled wcwidth-0.2.5\n  Attempting uninstall: traitlets\n    Found existing installation: traitlets 5.0.5\n    Uninstalling traitlets-5.0.5:\n      Successfully uninstalled traitlets-5.0.5\n  Attempting uninstall: ptyprocess\n    Found existing installation: ptyprocess 0.7.0\n    Uninstalling ptyprocess-0.7.0:\n      Successfully uninstalled ptyprocess-0.7.0\n  Attempting uninstall: parso\n    Found existing installation: parso 0.7.0\n    Uninstalling parso-0.7.0:\n      Successfully uninstalled parso-0.7.0\n  Attempting uninstall: setuptools\n    Found existing installation: setuptools 52.0.0.post20211006\n    Uninstalling setuptools-52.0.0.post20211006:\n      Successfully uninstalled setuptools-52.0.0.post20211006\n  Attempting uninstall: pygments\n    Found existing installation: Pygments 2.9.0\n    Uninstalling Pygments-2.9.0:\n      Successfully uninstalled Pygments-2.9.0\n  Attempting uninstall: prompt-toolkit\n    Found existing installation: prompt-toolkit 3.0.17\n    Uninstalling prompt-toolkit-3.0.17:\n      Successfully uninstalled prompt-toolkit-3.0.17\n  Attempting uninstall: pickleshare\n    Found existing installation: pickleshare 0.7.5\n    Uninstalling pickleshare-0.7.5:\n      Successfully uninstalled pickleshare-0.7.5\n  Attempting uninstall: pexpect\n    Found existing installation: pexpect 4.8.0\n    Uninstalling pexpect-4.8.0:\n      Successfully uninstalled pexpect-4.8.0\n  Attempting uninstall: jedi\n    Found existing installation: jedi 0.17.2\n    Uninstalling jedi-0.17.2:\n      Successfully uninstalled jedi-0.17.2\n  Attempting uninstall: decorator\n    Found existing installation: decorator 5.0.9\n    Uninstalling decorator-5.0.9:\n      Successfully uninstalled decorator-5.0.9\n  Attempting uninstall: backcall\n    Found existing installation: backcall 0.2.0\n    Uninstalling backcall-0.2.0:\n      Successfully uninstalled backcall-0.2.0\n  Attempting uninstall: sqlparse\n    Found existing installation: sqlparse 0.4.2\n    Uninstalling sqlparse-0.4.2:\n      Successfully uninstalled sqlparse-0.4.2\n  Attempting uninstall: sqlalchemy\n    Found existing installation: SQLAlchemy 1.3.9\n    Uninstalling SQLAlchemy-1.3.9:\n      Successfully uninstalled SQLAlchemy-1.3.9\n  Attempting uninstall: six\n    Found existing installation: six 1.15.0\n    Uninstalling six-1.15.0:\n      Successfully uninstalled six-1.15.0\n  Attempting uninstall: prettytable\n    Found existing installation: prettytable 0.7.2\n    Uninstalling prettytable-0.7.2:\n      Successfully uninstalled prettytable-0.7.2\n  Attempting uninstall: ipython-genutils\n    Found existing installation: ipython-genutils 0.2.0\n    Uninstalling ipython-genutils-0.2.0:\n      Successfully uninstalled ipython-genutils-0.2.0\n  Attempting uninstall: ipython\n    Found existing installation: ipython 7.22.0\n    Uninstalling ipython-7.22.0:\n      Successfully uninstalled ipython-7.22.0\n  Attempting uninstall: ibm-db\n    Found existing installation: ibm-db 3.1.0\n    Uninstalling ibm-db-3.1.0:\n      Successfully uninstalled ibm-db-3.1.0\n  Attempting uninstall: ipython-sql\n    Found existing installation: ipython-sql 0.4.0\n    Uninstalling ipython-sql-0.4.0:\n      Successfully uninstalled ipython-sql-0.4.0\n  Attempting uninstall: ibm-db-sa\n    Found existing installation: ibm-db-sa 0.3.7\n    Uninstalling ibm-db-sa-0.3.7:\n      Successfully uninstalled ibm-db-sa-0.3.7\n\u001b[31mERROR: pip's dependency resolver does not currently take into account all the packages that are installed. This behaviour is the source of the following dependency conflicts.\nsparkmagic 0.18.0 requires nose, which is not installed.\nhdijupyterutils 0.18.0 requires jupyter>=1, which is not installed.\nhdijupyterutils 0.18.0 requires nose, which is not installed.\ntensorflow 2.4.3 requires flatbuffers~=1.12.0, but you have flatbuffers 20210226132247 which is incompatible.\ntensorflow 2.4.3 requires grpcio~=1.32.0, but you have grpcio 1.35.0 which is incompatible.\ntensorflow 2.4.3 requires opt-einsum~=3.3.0, but you have opt-einsum 3.1.0 which is incompatible.\ntensorflow 2.4.3 requires six~=1.15.0, but you have six 1.16.0 which is incompatible.\u001b[0m\nSuccessfully installed backcall-0.2.0 decorator-5.1.0 ibm-db-3.1.0 ibm-db-sa-0.3.7 ipython-7.28.0 ipython-genutils-0.2.0 ipython-sql-0.4.0 jedi-0.18.0 matplotlib-inline-0.1.3 parso-0.8.2 pexpect-4.8.0 pickleshare-0.7.5 prettytable-0.7.2 prompt-toolkit-3.0.21 ptyprocess-0.7.0 pygments-2.10.0 setuptools-58.3.0 six-1.16.0 sqlalchemy-1.3.9 sqlparse-0.4.2 traitlets-5.1.0 wcwidth-0.2.5\n"
                }
            ],
            "source": "!pip install ipython-sql\n!pip install sqlalchemy==1.3.9\n!pip install ibm_db\n!pip install ibm_db_sa\n!pip install ibm-db\n!pip install ibm-db-sa\n\n!pip install --force-reinstall ibm_db ibm_db_sa ipython-sql ibm-db ibm-db-sa sqlalchemy==1.3.9\n\nimport sqlalchemy\nfrom sqlalchemy import *\nimport ibm_db\nimport ibm_db_sa"
        },
        {
            "cell_type": "code",
            "execution_count": 7,
            "metadata": {},
            "outputs": [],
            "source": "%load_ext sql"
        },
        {
            "cell_type": "code",
            "execution_count": 8,
            "metadata": {},
            "outputs": [],
            "source": "# Enter the connection string for your Db2 on Cloud database instance below\n# %sql ibm_db_sa://my-username:my-password@my-hostname:my-port/my-db-name?security=SSL\n%sql ibm_db_sa://kwd67393:AID7Tfi5hbqGi2yW@824dfd4d-99de-440d-9991-629c01b3832d.bs2io90l08kqb1od8lcg.databases.appdomain.cloud:30119/bludb?security=SSL"
        },
        {
            "cell_type": "markdown",
            "metadata": {},
            "source": "### Query the database system catalog to retrieve table metadata\n\n##### You can verify that the table creation was successful by retrieving the list of all tables in your schema and checking whether the SCHOOLS table was created\n"
        },
        {
            "cell_type": "code",
            "execution_count": 15,
            "metadata": {},
            "outputs": [
                {
                    "name": "stdout",
                    "output_type": "stream",
                    "text": " * ibm_db_sa://kwd67393:***@824dfd4d-99de-440d-9991-629c01b3832d.bs2io90l08kqb1od8lcg.databases.appdomain.cloud:30119/bludb\nDone.\n"
                },
                {
                    "data": {
                        "text/html": "<table>\n    <tr>\n        <th>tabschema</th>\n        <th>tabname</th>\n        <th>owner</th>\n        <th>ownertype</th>\n        <th>TYPE</th>\n        <th>status</th>\n        <th>base_tabschema</th>\n        <th>base_tabname</th>\n        <th>rowtypeschema</th>\n        <th>rowtypename</th>\n        <th>create_time</th>\n        <th>alter_time</th>\n        <th>invalidate_time</th>\n        <th>stats_time</th>\n        <th>colcount</th>\n        <th>tableid</th>\n        <th>tbspaceid</th>\n        <th>card</th>\n        <th>npages</th>\n        <th>mpages</th>\n        <th>fpages</th>\n        <th>npartitions</th>\n        <th>nfiles</th>\n        <th>tablesize</th>\n        <th>overflow</th>\n        <th>tbspace</th>\n        <th>index_tbspace</th>\n        <th>long_tbspace</th>\n        <th>parents</th>\n        <th>children</th>\n        <th>selfrefs</th>\n        <th>keycolumns</th>\n        <th>keyindexid</th>\n        <th>keyunique</th>\n        <th>checkcount</th>\n        <th>datacapture</th>\n        <th>const_checked</th>\n        <th>pmap_id</th>\n        <th>partition_mode</th>\n        <th>log_attribute</th>\n        <th>pctfree</th>\n        <th>append_mode</th>\n        <th>REFRESH</th>\n        <th>refresh_time</th>\n        <th>LOCKSIZE</th>\n        <th>VOLATILE</th>\n        <th>row_format</th>\n        <th>property</th>\n        <th>statistics_profile</th>\n        <th>compression</th>\n        <th>rowcompmode</th>\n        <th>access_mode</th>\n        <th>clustered</th>\n        <th>active_blocks</th>\n        <th>droprule</th>\n        <th>maxfreespacesearch</th>\n        <th>avgcompressedrowsize</th>\n        <th>avgrowcompressionratio</th>\n        <th>avgrowsize</th>\n        <th>pctrowscompressed</th>\n        <th>logindexbuild</th>\n        <th>codepage</th>\n        <th>collationschema</th>\n        <th>collationname</th>\n        <th>collationschema_orderby</th>\n        <th>collationname_orderby</th>\n        <th>encoding_scheme</th>\n        <th>pctpagessaved</th>\n        <th>last_regen_time</th>\n        <th>secpolicyid</th>\n        <th>protectiongranularity</th>\n        <th>auditpolicyid</th>\n        <th>auditpolicyname</th>\n        <th>auditexceptionenabled</th>\n        <th>definer</th>\n        <th>oncommit</th>\n        <th>logged</th>\n        <th>onrollback</th>\n        <th>lastused</th>\n        <th>control</th>\n        <th>temporaltype</th>\n        <th>tableorg</th>\n        <th>extended_row_size</th>\n        <th>pctextendedrows</th>\n        <th>remarks</th>\n    </tr>\n    <tr>\n        <td>KWD67393</td>\n        <td>SCHOOLS</td>\n        <td>KWD67393</td>\n        <td>U</td>\n        <td>T</td>\n        <td>N</td>\n        <td>None</td>\n        <td>None</td>\n        <td>None</td>\n        <td>None</td>\n        <td>2021-10-25 14:20:25.548646</td>\n        <td>2021-10-25 14:20:25.548646</td>\n        <td>2021-10-25 14:20:25.548646</td>\n        <td>None</td>\n        <td>78</td>\n        <td>7</td>\n        <td>2063</td>\n        <td>-1</td>\n        <td>-1</td>\n        <td>-1</td>\n        <td>-1</td>\n        <td>-1</td>\n        <td>-1</td>\n        <td>-1</td>\n        <td>-1</td>\n        <td>KWD67393SPACE1</td>\n        <td>None</td>\n        <td>None</td>\n        <td>0</td>\n        <td>0</td>\n        <td>0</td>\n        <td>0</td>\n        <td>0</td>\n        <td>0</td>\n        <td>0</td>\n        <td>N</td>\n        <td>YYYYYYYYYYYYYYYYYYYYYYYYYYYYYYYY</td>\n        <td>1</td>\n        <td> </td>\n        <td>0</td>\n        <td>-1</td>\n        <td>N</td>\n        <td> </td>\n        <td>None</td>\n        <td>R</td>\n        <td> </td>\n        <td>N</td>\n        <td>&nbsp;&nbsp;&nbsp;&nbsp;&nbsp;&nbsp;&nbsp;&nbsp;&nbsp;&nbsp;&nbsp;&nbsp;&nbsp;&nbsp;&nbsp;&nbsp;&nbsp;&nbsp;&nbsp;&nbsp;&nbsp;&nbsp;&nbsp;&nbsp;&nbsp;&nbsp;&nbsp;&nbsp;&nbsp;&nbsp;&nbsp;&nbsp;</td>\n        <td>None</td>\n        <td>N</td>\n        <td> </td>\n        <td>F</td>\n        <td>None</td>\n        <td>-1</td>\n        <td>N</td>\n        <td>999</td>\n        <td>-1</td>\n        <td>-1.0</td>\n        <td>-1</td>\n        <td>-1.0</td>\n        <td>None</td>\n        <td>1208</td>\n        <td>SYSIBM</td>\n        <td>IDENTITY</td>\n        <td>SYSIBM</td>\n        <td>IDENTITY</td>\n        <td> </td>\n        <td>-1</td>\n        <td>2021-10-25 14:20:25.548646</td>\n        <td>0</td>\n        <td> </td>\n        <td>None</td>\n        <td>None</td>\n        <td>N</td>\n        <td>KWD67393</td>\n        <td> </td>\n        <td> </td>\n        <td> </td>\n        <td>0001-01-01</td>\n        <td> </td>\n        <td>N</td>\n        <td>R</td>\n        <td>N</td>\n        <td>-1.0</td>\n        <td>None</td>\n    </tr>\n</table>",
                        "text/plain": "[('KWD67393', 'SCHOOLS', 'KWD67393', 'U', 'T', 'N', None, None, None, None, datetime.datetime(2021, 10, 25, 14, 20, 25, 548646), datetime.datetime(2021, 10, 25, 14, 20, 25, 548646), datetime.datetime(2021, 10, 25, 14, 20, 25, 548646), None, 78, 7, 2063, -1, -1, -1, -1, -1, -1, -1, -1, 'KWD67393SPACE1', None, None, 0, 0, 0, 0, 0, 0, 0, 'N', 'YYYYYYYYYYYYYYYYYYYYYYYYYYYYYYYY', 1, ' ', '0', -1, 'N', ' ', None, 'R', ' ', 'N', '                                ', None, 'N', ' ', 'F', None, -1, 'N', 999, -1, -1.0, -1, -1.0, None, 1208, 'SYSIBM', 'IDENTITY', 'SYSIBM', 'IDENTITY', ' ', -1, datetime.datetime(2021, 10, 25, 14, 20, 25, 548646), 0, ' ', None, None, 'N', 'KWD67393', ' ', ' ', ' ', datetime.date(1, 1, 1), ' ', 'N', 'R', 'N', -1.0, None)]"
                    },
                    "execution_count": 15,
                    "metadata": {},
                    "output_type": "execute_result"
                }
            ],
            "source": "# type in your query to retrieve list of all tables in the database for your db2 schema (username)\n#%sql select TABSCHEMA, TABNAME, CREATE_TIME from SYSCAT.TABLES where TABSCHEMA='kwd67393'\n%sql select * from SYSCAT.TABLES where TABNAME = 'SCHOOLS'\n#%sql select TABSCHEMA, TABNAME, CREATE_TIME from SYSCAT.TABLES \\\n      #where TABSCHEMA not in ('SYSIBM', 'SYSCAT', 'SYSSTAT', 'SYSIBMADM', 'SYSTOOLS', 'SYSPUBLIC')"
        },
        {
            "cell_type": "markdown",
            "metadata": {},
            "source": "Double-click **here** for a hint\n\n<!--\nIn Db2 the system catalog table called SYSCAT.TABLES contains the table metadata\n-->\n"
        },
        {
            "cell_type": "markdown",
            "metadata": {},
            "source": "Double-click **here** for the solution.\n\n<!-- Solution:\n\n%sql select TABSCHEMA, TABNAME, CREATE_TIME from SYSCAT.TABLES where TABSCHEMA='YOUR-DB2-USERNAME'\n\nor, you can retrieve list of all tables where the schema name is not one of the system created ones:\n\n%sql select TABSCHEMA, TABNAME, CREATE_TIME from SYSCAT.TABLES \\\n      where TABSCHEMA not in ('SYSIBM', 'SYSCAT', 'SYSSTAT', 'SYSIBMADM', 'SYSTOOLS', 'SYSPUBLIC')\n      \nor, just query for a specifc table that you want to verify exists in the database\n%sql select * from SYSCAT.TABLES where TABNAME = 'SCHOOLS'\n\n-->\n"
        },
        {
            "cell_type": "markdown",
            "metadata": {},
            "source": "### Query the database system catalog to retrieve column metadata\n\n##### The SCHOOLS table contains a large number of columns. How many columns does this table have?\n"
        },
        {
            "cell_type": "code",
            "execution_count": 17,
            "metadata": {},
            "outputs": [
                {
                    "name": "stdout",
                    "output_type": "stream",
                    "text": " * ibm_db_sa://kwd67393:***@824dfd4d-99de-440d-9991-629c01b3832d.bs2io90l08kqb1od8lcg.databases.appdomain.cloud:30119/bludb\nDone.\n"
                },
                {
                    "data": {
                        "text/html": "<table>\n    <tr>\n        <th>1</th>\n    </tr>\n    <tr>\n        <td>78</td>\n    </tr>\n</table>",
                        "text/plain": "[(78,)]"
                    },
                    "execution_count": 17,
                    "metadata": {},
                    "output_type": "execute_result"
                }
            ],
            "source": "# type in your query to retrieve the number of columns in the SCHOOLS table\n%sql select count(*) from SYSCAT.COLUMNS where TABNAME = 'SCHOOLS'"
        },
        {
            "cell_type": "markdown",
            "metadata": {},
            "source": "Double-click **here** for a hint\n\n<!--\nIn Db2 the system catalog table called SYSCAT.COLUMNS contains the column metadata\n-->\n"
        },
        {
            "cell_type": "markdown",
            "metadata": {},
            "source": "Double-click **here** for the solution.\n\n<!-- Solution:\n\n%sql select count(*) from SYSCAT.COLUMNS where TABNAME = 'SCHOOLS'\n\n-->\n"
        },
        {
            "cell_type": "markdown",
            "metadata": {},
            "source": "Now retrieve the the list of columns in SCHOOLS table and their column type (datatype) and length.\n"
        },
        {
            "cell_type": "code",
            "execution_count": 25,
            "metadata": {},
            "outputs": [
                {
                    "name": "stdout",
                    "output_type": "stream",
                    "text": " * ibm_db_sa://kwd67393:***@824dfd4d-99de-440d-9991-629c01b3832d.bs2io90l08kqb1od8lcg.databases.appdomain.cloud:30119/bludb\nDone.\n"
                },
                {
                    "data": {
                        "text/html": "<table>\n    <tr>\n        <th>colname</th>\n        <th>typename</th>\n        <th>length</th>\n    </tr>\n    <tr>\n        <td>SCHOOL_ID</td>\n        <td>INTEGER</td>\n        <td>4</td>\n    </tr>\n    <tr>\n        <td>NAME_OF_SCHOOL</td>\n        <td>VARCHAR</td>\n        <td>64</td>\n    </tr>\n    <tr>\n        <td>Elementary, Middle, or High School</td>\n        <td>VARCHAR</td>\n        <td>2</td>\n    </tr>\n    <tr>\n        <td>STREET_ADDRESS</td>\n        <td>VARCHAR</td>\n        <td>29</td>\n    </tr>\n    <tr>\n        <td>CITY</td>\n        <td>VARCHAR</td>\n        <td>7</td>\n    </tr>\n    <tr>\n        <td>STATE</td>\n        <td>VARCHAR</td>\n        <td>2</td>\n    </tr>\n    <tr>\n        <td>ZIP_CODE</td>\n        <td>INTEGER</td>\n        <td>4</td>\n    </tr>\n    <tr>\n        <td>PHONE_NUMBER</td>\n        <td>VARCHAR</td>\n        <td>14</td>\n    </tr>\n    <tr>\n        <td>LINK</td>\n        <td>VARCHAR</td>\n        <td>78</td>\n    </tr>\n    <tr>\n        <td>NETWORK_MANAGER</td>\n        <td>VARCHAR</td>\n        <td>40</td>\n    </tr>\n    <tr>\n        <td>COLLABORATIVE_NAME</td>\n        <td>VARCHAR</td>\n        <td>34</td>\n    </tr>\n    <tr>\n        <td>ADEQUATE_YEARLY_PROGRESS_MADE_</td>\n        <td>VARCHAR</td>\n        <td>3</td>\n    </tr>\n    <tr>\n        <td>TRACK_SCHEDULE</td>\n        <td>VARCHAR</td>\n        <td>12</td>\n    </tr>\n    <tr>\n        <td>CPS_PERFORMANCE_POLICY_STATUS</td>\n        <td>VARCHAR</td>\n        <td>16</td>\n    </tr>\n    <tr>\n        <td>CPS_PERFORMANCE_POLICY_LEVEL</td>\n        <td>VARCHAR</td>\n        <td>15</td>\n    </tr>\n    <tr>\n        <td>HEALTHY_SCHOOL_CERTIFIED</td>\n        <td>VARCHAR</td>\n        <td>3</td>\n    </tr>\n    <tr>\n        <td>SAFETY_ICON</td>\n        <td>VARCHAR</td>\n        <td>11</td>\n    </tr>\n    <tr>\n        <td>SAFETY_SCORE</td>\n        <td>SMALLINT</td>\n        <td>2</td>\n    </tr>\n    <tr>\n        <td>FAMILY_INVOLVEMENT_ICON</td>\n        <td>VARCHAR</td>\n        <td>11</td>\n    </tr>\n    <tr>\n        <td>FAMILY_INVOLVEMENT_SCORE</td>\n        <td>VARCHAR</td>\n        <td>3</td>\n    </tr>\n    <tr>\n        <td>ENVIRONMENT_ICON</td>\n        <td>VARCHAR</td>\n        <td>11</td>\n    </tr>\n    <tr>\n        <td>ENVIRONMENT_SCORE</td>\n        <td>SMALLINT</td>\n        <td>2</td>\n    </tr>\n    <tr>\n        <td>INSTRUCTION_SCORE</td>\n        <td>SMALLINT</td>\n        <td>2</td>\n    </tr>\n    <tr>\n        <td>LEADERS_ICON</td>\n        <td>VARCHAR</td>\n        <td>4</td>\n    </tr>\n    <tr>\n        <td>LEADERS_SCORE</td>\n        <td>VARCHAR</td>\n        <td>3</td>\n    </tr>\n    <tr>\n        <td>TEACHERS_ICON</td>\n        <td>VARCHAR</td>\n        <td>11</td>\n    </tr>\n    <tr>\n        <td>TEACHERS_SCORE</td>\n        <td>VARCHAR</td>\n        <td>3</td>\n    </tr>\n    <tr>\n        <td>PARENT_ENGAGEMENT_ICON</td>\n        <td>VARCHAR</td>\n        <td>7</td>\n    </tr>\n    <tr>\n        <td>PARENT_ENGAGEMENT_SCORE</td>\n        <td>VARCHAR</td>\n        <td>3</td>\n    </tr>\n    <tr>\n        <td>PARENT_ENVIRONMENT_ICON</td>\n        <td>VARCHAR</td>\n        <td>7</td>\n    </tr>\n    <tr>\n        <td>PARENT_ENVIRONMENT_SCORE</td>\n        <td>VARCHAR</td>\n        <td>3</td>\n    </tr>\n    <tr>\n        <td>INSTRUCTION_ICON</td>\n        <td>VARCHAR</td>\n        <td>11</td>\n    </tr>\n    <tr>\n        <td>AVERAGE_STUDENT_ATTENDANCE</td>\n        <td>VARCHAR</td>\n        <td>6</td>\n    </tr>\n    <tr>\n        <td>RATE_OF_MISCONDUCTS__PER_100_STUDENTS_</td>\n        <td>DECIMAL</td>\n        <td>5</td>\n    </tr>\n    <tr>\n        <td>AVERAGE_TEACHER_ATTENDANCE</td>\n        <td>VARCHAR</td>\n        <td>6</td>\n    </tr>\n    <tr>\n        <td>INDIVIDUALIZED_EDUCATION_PROGRAM_COMPLIANCE_RATE</td>\n        <td>VARCHAR</td>\n        <td>7</td>\n    </tr>\n    <tr>\n        <td>PK_2_LITERACY__</td>\n        <td>VARCHAR</td>\n        <td>4</td>\n    </tr>\n    <tr>\n        <td>PK_2_MATH__</td>\n        <td>VARCHAR</td>\n        <td>4</td>\n    </tr>\n    <tr>\n        <td>GR3_5_GRADE_LEVEL_MATH__</td>\n        <td>VARCHAR</td>\n        <td>4</td>\n    </tr>\n    <tr>\n        <td>GR3_5_GRADE_LEVEL_READ__</td>\n        <td>VARCHAR</td>\n        <td>4</td>\n    </tr>\n    <tr>\n        <td>GR3_5_KEEP_PACE_READ__</td>\n        <td>VARCHAR</td>\n        <td>4</td>\n    </tr>\n    <tr>\n        <td>GR3_5_KEEP_PACE_MATH__</td>\n        <td>VARCHAR</td>\n        <td>4</td>\n    </tr>\n    <tr>\n        <td>GR6_8_GRADE_LEVEL_MATH__</td>\n        <td>VARCHAR</td>\n        <td>4</td>\n    </tr>\n    <tr>\n        <td>GR6_8_GRADE_LEVEL_READ__</td>\n        <td>VARCHAR</td>\n        <td>4</td>\n    </tr>\n    <tr>\n        <td>GR6_8_KEEP_PACE_MATH_</td>\n        <td>VARCHAR</td>\n        <td>4</td>\n    </tr>\n    <tr>\n        <td>GR6_8_KEEP_PACE_READ__</td>\n        <td>VARCHAR</td>\n        <td>4</td>\n    </tr>\n    <tr>\n        <td>GR_8_EXPLORE_MATH__</td>\n        <td>VARCHAR</td>\n        <td>4</td>\n    </tr>\n    <tr>\n        <td>GR_8_EXPLORE_READ__</td>\n        <td>VARCHAR</td>\n        <td>4</td>\n    </tr>\n    <tr>\n        <td>ISAT_EXCEEDING_MATH__</td>\n        <td>DECIMAL</td>\n        <td>4</td>\n    </tr>\n    <tr>\n        <td>ISAT_EXCEEDING_READING__</td>\n        <td>DECIMAL</td>\n        <td>4</td>\n    </tr>\n    <tr>\n        <td>ISAT_VALUE_ADD_MATH</td>\n        <td>DECIMAL</td>\n        <td>3</td>\n    </tr>\n    <tr>\n        <td>ISAT_VALUE_ADD_READ</td>\n        <td>DECIMAL</td>\n        <td>3</td>\n    </tr>\n    <tr>\n        <td>ISAT_VALUE_ADD_COLOR_MATH</td>\n        <td>VARCHAR</td>\n        <td>6</td>\n    </tr>\n    <tr>\n        <td>ISAT_VALUE_ADD_COLOR_READ</td>\n        <td>VARCHAR</td>\n        <td>6</td>\n    </tr>\n    <tr>\n        <td>STUDENTS_TAKING__ALGEBRA__</td>\n        <td>VARCHAR</td>\n        <td>4</td>\n    </tr>\n    <tr>\n        <td>STUDENTS_PASSING__ALGEBRA__</td>\n        <td>VARCHAR</td>\n        <td>4</td>\n    </tr>\n    <tr>\n        <td>9th Grade EXPLORE (2009)</td>\n        <td>VARCHAR</td>\n        <td>4</td>\n    </tr>\n    <tr>\n        <td>9th Grade EXPLORE (2010)</td>\n        <td>VARCHAR</td>\n        <td>4</td>\n    </tr>\n    <tr>\n        <td>10th Grade PLAN (2009)</td>\n        <td>VARCHAR</td>\n        <td>4</td>\n    </tr>\n    <tr>\n        <td>10th Grade PLAN (2010)</td>\n        <td>VARCHAR</td>\n        <td>4</td>\n    </tr>\n    <tr>\n        <td>NET_CHANGE_EXPLORE_AND_PLAN</td>\n        <td>VARCHAR</td>\n        <td>3</td>\n    </tr>\n    <tr>\n        <td>11th Grade Average ACT (2011)</td>\n        <td>VARCHAR</td>\n        <td>4</td>\n    </tr>\n    <tr>\n        <td>NET_CHANGE_PLAN_AND_ACT</td>\n        <td>VARCHAR</td>\n        <td>3</td>\n    </tr>\n    <tr>\n        <td>COLLEGE_ELIGIBILITY__</td>\n        <td>VARCHAR</td>\n        <td>4</td>\n    </tr>\n    <tr>\n        <td>GRADUATION_RATE__</td>\n        <td>VARCHAR</td>\n        <td>4</td>\n    </tr>\n    <tr>\n        <td>COLLEGE_ENROLLMENT_RATE__</td>\n        <td>VARCHAR</td>\n        <td>4</td>\n    </tr>\n    <tr>\n        <td>COLLEGE_ENROLLMENT</td>\n        <td>SMALLINT</td>\n        <td>2</td>\n    </tr>\n    <tr>\n        <td>GENERAL_SERVICES_ROUTE</td>\n        <td>SMALLINT</td>\n        <td>2</td>\n    </tr>\n    <tr>\n        <td>FRESHMAN_ON_TRACK_RATE__</td>\n        <td>VARCHAR</td>\n        <td>4</td>\n    </tr>\n    <tr>\n        <td>X_COORDINATE</td>\n        <td>DECIMAL</td>\n        <td>13</td>\n    </tr>\n    <tr>\n        <td>Y_COORDINATE</td>\n        <td>DECIMAL</td>\n        <td>13</td>\n    </tr>\n    <tr>\n        <td>LATITUDE</td>\n        <td>DECIMAL</td>\n        <td>18</td>\n    </tr>\n    <tr>\n        <td>LONGITUDE</td>\n        <td>DECIMAL</td>\n        <td>18</td>\n    </tr>\n    <tr>\n        <td>COMMUNITY_AREA_NUMBER</td>\n        <td>SMALLINT</td>\n        <td>2</td>\n    </tr>\n    <tr>\n        <td>COMMUNITY_AREA_NAME</td>\n        <td>VARCHAR</td>\n        <td>22</td>\n    </tr>\n    <tr>\n        <td>WARD</td>\n        <td>SMALLINT</td>\n        <td>2</td>\n    </tr>\n    <tr>\n        <td>POLICE_DISTRICT</td>\n        <td>SMALLINT</td>\n        <td>2</td>\n    </tr>\n    <tr>\n        <td>LOCATION</td>\n        <td>VARCHAR</td>\n        <td>27</td>\n    </tr>\n</table>",
                        "text/plain": "[('SCHOOL_ID', 'INTEGER', 4),\n ('NAME_OF_SCHOOL', 'VARCHAR', 64),\n ('Elementary, Middle, or High School', 'VARCHAR', 2),\n ('STREET_ADDRESS', 'VARCHAR', 29),\n ('CITY', 'VARCHAR', 7),\n ('STATE', 'VARCHAR', 2),\n ('ZIP_CODE', 'INTEGER', 4),\n ('PHONE_NUMBER', 'VARCHAR', 14),\n ('LINK', 'VARCHAR', 78),\n ('NETWORK_MANAGER', 'VARCHAR', 40),\n ('COLLABORATIVE_NAME', 'VARCHAR', 34),\n ('ADEQUATE_YEARLY_PROGRESS_MADE_', 'VARCHAR', 3),\n ('TRACK_SCHEDULE', 'VARCHAR', 12),\n ('CPS_PERFORMANCE_POLICY_STATUS', 'VARCHAR', 16),\n ('CPS_PERFORMANCE_POLICY_LEVEL', 'VARCHAR', 15),\n ('HEALTHY_SCHOOL_CERTIFIED', 'VARCHAR', 3),\n ('SAFETY_ICON', 'VARCHAR', 11),\n ('SAFETY_SCORE', 'SMALLINT', 2),\n ('FAMILY_INVOLVEMENT_ICON', 'VARCHAR', 11),\n ('FAMILY_INVOLVEMENT_SCORE', 'VARCHAR', 3),\n ('ENVIRONMENT_ICON', 'VARCHAR', 11),\n ('ENVIRONMENT_SCORE', 'SMALLINT', 2),\n ('INSTRUCTION_SCORE', 'SMALLINT', 2),\n ('LEADERS_ICON', 'VARCHAR', 4),\n ('LEADERS_SCORE', 'VARCHAR', 3),\n ('TEACHERS_ICON', 'VARCHAR', 11),\n ('TEACHERS_SCORE', 'VARCHAR', 3),\n ('PARENT_ENGAGEMENT_ICON', 'VARCHAR', 7),\n ('PARENT_ENGAGEMENT_SCORE', 'VARCHAR', 3),\n ('PARENT_ENVIRONMENT_ICON', 'VARCHAR', 7),\n ('PARENT_ENVIRONMENT_SCORE', 'VARCHAR', 3),\n ('INSTRUCTION_ICON', 'VARCHAR', 11),\n ('AVERAGE_STUDENT_ATTENDANCE', 'VARCHAR', 6),\n ('RATE_OF_MISCONDUCTS__PER_100_STUDENTS_', 'DECIMAL', 5),\n ('AVERAGE_TEACHER_ATTENDANCE', 'VARCHAR', 6),\n ('INDIVIDUALIZED_EDUCATION_PROGRAM_COMPLIANCE_RATE', 'VARCHAR', 7),\n ('PK_2_LITERACY__', 'VARCHAR', 4),\n ('PK_2_MATH__', 'VARCHAR', 4),\n ('GR3_5_GRADE_LEVEL_MATH__', 'VARCHAR', 4),\n ('GR3_5_GRADE_LEVEL_READ__', 'VARCHAR', 4),\n ('GR3_5_KEEP_PACE_READ__', 'VARCHAR', 4),\n ('GR3_5_KEEP_PACE_MATH__', 'VARCHAR', 4),\n ('GR6_8_GRADE_LEVEL_MATH__', 'VARCHAR', 4),\n ('GR6_8_GRADE_LEVEL_READ__', 'VARCHAR', 4),\n ('GR6_8_KEEP_PACE_MATH_', 'VARCHAR', 4),\n ('GR6_8_KEEP_PACE_READ__', 'VARCHAR', 4),\n ('GR_8_EXPLORE_MATH__', 'VARCHAR', 4),\n ('GR_8_EXPLORE_READ__', 'VARCHAR', 4),\n ('ISAT_EXCEEDING_MATH__', 'DECIMAL', 4),\n ('ISAT_EXCEEDING_READING__', 'DECIMAL', 4),\n ('ISAT_VALUE_ADD_MATH', 'DECIMAL', 3),\n ('ISAT_VALUE_ADD_READ', 'DECIMAL', 3),\n ('ISAT_VALUE_ADD_COLOR_MATH', 'VARCHAR', 6),\n ('ISAT_VALUE_ADD_COLOR_READ', 'VARCHAR', 6),\n ('STUDENTS_TAKING__ALGEBRA__', 'VARCHAR', 4),\n ('STUDENTS_PASSING__ALGEBRA__', 'VARCHAR', 4),\n ('9th Grade EXPLORE (2009)', 'VARCHAR', 4),\n ('9th Grade EXPLORE (2010)', 'VARCHAR', 4),\n ('10th Grade PLAN (2009)', 'VARCHAR', 4),\n ('10th Grade PLAN (2010)', 'VARCHAR', 4),\n ('NET_CHANGE_EXPLORE_AND_PLAN', 'VARCHAR', 3),\n ('11th Grade Average ACT (2011)', 'VARCHAR', 4),\n ('NET_CHANGE_PLAN_AND_ACT', 'VARCHAR', 3),\n ('COLLEGE_ELIGIBILITY__', 'VARCHAR', 4),\n ('GRADUATION_RATE__', 'VARCHAR', 4),\n ('COLLEGE_ENROLLMENT_RATE__', 'VARCHAR', 4),\n ('COLLEGE_ENROLLMENT', 'SMALLINT', 2),\n ('GENERAL_SERVICES_ROUTE', 'SMALLINT', 2),\n ('FRESHMAN_ON_TRACK_RATE__', 'VARCHAR', 4),\n ('X_COORDINATE', 'DECIMAL', 13),\n ('Y_COORDINATE', 'DECIMAL', 13),\n ('LATITUDE', 'DECIMAL', 18),\n ('LONGITUDE', 'DECIMAL', 18),\n ('COMMUNITY_AREA_NUMBER', 'SMALLINT', 2),\n ('COMMUNITY_AREA_NAME', 'VARCHAR', 22),\n ('WARD', 'SMALLINT', 2),\n ('POLICE_DISTRICT', 'SMALLINT', 2),\n ('LOCATION', 'VARCHAR', 27)]"
                    },
                    "execution_count": 25,
                    "metadata": {},
                    "output_type": "execute_result"
                }
            ],
            "source": "# type in your query to retrieve all column names in the SCHOOLS table along with their datatypes and length\n%sql select COLNAME, TYPENAME, LENGTH from SYSCAT.COLUMNS where TABNAME = 'SCHOOLS'"
        },
        {
            "cell_type": "markdown",
            "metadata": {},
            "source": "Double-click **here** for the solution.\n\n<!-- Solution:\n\n%sql select COLNAME, TYPENAME, LENGTH from SYSCAT.COLUMNS where TABNAME = 'SCHOOLS'\n\nor\n\n%sql select distinct(NAME), COLTYPE, LENGTH from SYSIBM.SYSCOLUMNS where TBNAME = 'SCHOOLS'\n\n-->\n"
        },
        {
            "cell_type": "markdown",
            "metadata": {},
            "source": "### Questions\n\n1.  Is the column name for the \"SCHOOL ID\" attribute in upper or mixed case?\n2.  What is the name of \"Community Area Name\" column in your table? Does it have spaces?\n3.  Are there any columns in whose names the spaces and paranthesis (round brackets) have been replaced by the underscore character \"\\_\"?\n"
        },
        {
            "cell_type": "markdown",
            "metadata": {},
            "source": "## Problems\n\n### Problem 1\n\n##### How many Elementary Schools are in the dataset?\n"
        },
        {
            "cell_type": "code",
            "execution_count": 22,
            "metadata": {},
            "outputs": [
                {
                    "name": "stdout",
                    "output_type": "stream",
                    "text": " * ibm_db_sa://kwd67393:***@824dfd4d-99de-440d-9991-629c01b3832d.bs2io90l08kqb1od8lcg.databases.appdomain.cloud:30119/bludb\nDone.\n"
                },
                {
                    "data": {
                        "text/html": "<table>\n    <tr>\n        <th>1</th>\n    </tr>\n    <tr>\n        <td>462</td>\n    </tr>\n</table>",
                        "text/plain": "[(462,)]"
                    },
                    "execution_count": 22,
                    "metadata": {},
                    "output_type": "execute_result"
                }
            ],
            "source": "%sql select count(*) from SCHOOLS where \"Elementary, Middle, or High School\" = 'ES' "
        },
        {
            "cell_type": "markdown",
            "metadata": {},
            "source": "Double-click **here** for a hint\n\n<!--\nWhich column specifies the school type e.g. 'ES', 'MS', 'HS'? (\"Elementary School, Middle School, High School\")\n-->\n"
        },
        {
            "cell_type": "markdown",
            "metadata": {},
            "source": "Double-click **here** for another hint\n\n<!--\nDoes the column name have mixed case, spaces or other special characters?\nIf so, ensure you use double quotes around the \"Name of the Column\"\n-->\n"
        },
        {
            "cell_type": "markdown",
            "metadata": {},
            "source": "Double-click **here** for the solution.\n\n<!-- Solution:\n\n%sql select count(*) from SCHOOLS where school_type = 'ES'\n\nCorrect answer: 462\n\n-->\n"
        },
        {
            "cell_type": "markdown",
            "metadata": {},
            "source": "### Problem 2\n\n##### What is the highest Safety Score?\n"
        },
        {
            "cell_type": "code",
            "execution_count": 27,
            "metadata": {},
            "outputs": [
                {
                    "name": "stdout",
                    "output_type": "stream",
                    "text": " * ibm_db_sa://kwd67393:***@824dfd4d-99de-440d-9991-629c01b3832d.bs2io90l08kqb1od8lcg.databases.appdomain.cloud:30119/bludb\nDone.\n"
                },
                {
                    "data": {
                        "text/html": "<table>\n    <tr>\n        <th>max_safety_score</th>\n    </tr>\n    <tr>\n        <td>99</td>\n    </tr>\n</table>",
                        "text/plain": "[(99,)]"
                    },
                    "execution_count": 27,
                    "metadata": {},
                    "output_type": "execute_result"
                }
            ],
            "source": "%sql select MAX(SAFETY_SCORE) AS MAX_SAFETY_SCORE from SCHOOLS"
        },
        {
            "cell_type": "markdown",
            "metadata": {},
            "source": "Double-click **here** for a hint\n\n<!--\nUse the MAX() function\n-->\n"
        },
        {
            "cell_type": "markdown",
            "metadata": {},
            "source": "Double-click **here** for the solution.\n\n<!-- Hint:\n\n%sql select MAX(Safety_Score) AS MAX_SAFETY_SCORE from SCHOOLS\n\nCorrect answer: 99\n-->\n"
        },
        {
            "cell_type": "markdown",
            "metadata": {},
            "source": "### Problem 3\n\n##### Which schools have highest Safety Score?\n"
        },
        {
            "cell_type": "code",
            "execution_count": 30,
            "metadata": {},
            "outputs": [
                {
                    "name": "stdout",
                    "output_type": "stream",
                    "text": " * ibm_db_sa://kwd67393:***@824dfd4d-99de-440d-9991-629c01b3832d.bs2io90l08kqb1od8lcg.databases.appdomain.cloud:30119/bludb\nDone.\n"
                },
                {
                    "data": {
                        "text/html": "<table>\n    <tr>\n        <th>name_of_school</th>\n        <th>safety_score</th>\n    </tr>\n    <tr>\n        <td>Abraham Lincoln Elementary School</td>\n        <td>99</td>\n    </tr>\n    <tr>\n        <td>Alexander Graham Bell Elementary School</td>\n        <td>99</td>\n    </tr>\n    <tr>\n        <td>Annie Keller Elementary Gifted Magnet School</td>\n        <td>99</td>\n    </tr>\n    <tr>\n        <td>Augustus H Burley Elementary School</td>\n        <td>99</td>\n    </tr>\n    <tr>\n        <td>Edgar Allan Poe Elementary Classical School</td>\n        <td>99</td>\n    </tr>\n    <tr>\n        <td>Edgebrook Elementary School</td>\n        <td>99</td>\n    </tr>\n    <tr>\n        <td>Ellen Mitchell Elementary School</td>\n        <td>99</td>\n    </tr>\n    <tr>\n        <td>James E McDade Elementary Classical School</td>\n        <td>99</td>\n    </tr>\n    <tr>\n        <td>James G Blaine Elementary School</td>\n        <td>99</td>\n    </tr>\n    <tr>\n        <td>LaSalle Elementary Language Academy</td>\n        <td>99</td>\n    </tr>\n    <tr>\n        <td>Mary E Courtenay Elementary Language Arts Center</td>\n        <td>99</td>\n    </tr>\n    <tr>\n        <td>Northside College Preparatory High School</td>\n        <td>99</td>\n    </tr>\n    <tr>\n        <td>Northside Learning Center High School</td>\n        <td>99</td>\n    </tr>\n    <tr>\n        <td>Norwood Park Elementary School</td>\n        <td>99</td>\n    </tr>\n    <tr>\n        <td>Oriole Park Elementary School</td>\n        <td>99</td>\n    </tr>\n    <tr>\n        <td>Sauganash Elementary School</td>\n        <td>99</td>\n    </tr>\n    <tr>\n        <td>Stephen Decatur Classical Elementary School</td>\n        <td>99</td>\n    </tr>\n    <tr>\n        <td>Talman Elementary School</td>\n        <td>99</td>\n    </tr>\n    <tr>\n        <td>Wildwood Elementary School</td>\n        <td>99</td>\n    </tr>\n</table>",
                        "text/plain": "[('Abraham Lincoln Elementary School', 99),\n ('Alexander Graham Bell Elementary School', 99),\n ('Annie Keller Elementary Gifted Magnet School', 99),\n ('Augustus H Burley Elementary School', 99),\n ('Edgar Allan Poe Elementary Classical School', 99),\n ('Edgebrook Elementary School', 99),\n ('Ellen Mitchell Elementary School', 99),\n ('James E McDade Elementary Classical School', 99),\n ('James G Blaine Elementary School', 99),\n ('LaSalle Elementary Language Academy', 99),\n ('Mary E Courtenay Elementary Language Arts Center', 99),\n ('Northside College Preparatory High School', 99),\n ('Northside Learning Center High School', 99),\n ('Norwood Park Elementary School', 99),\n ('Oriole Park Elementary School', 99),\n ('Sauganash Elementary School', 99),\n ('Stephen Decatur Classical Elementary School', 99),\n ('Talman Elementary School', 99),\n ('Wildwood Elementary School', 99)]"
                    },
                    "execution_count": 30,
                    "metadata": {},
                    "output_type": "execute_result"
                }
            ],
            "source": "%sql select NAME_OF_SCHOOL, SAFETY_SCORE from SCHOOLS where SAFETY_SCORE = (select max(safety_score) from SCHOOLS)"
        },
        {
            "cell_type": "markdown",
            "metadata": {},
            "source": "Double-click **here** for the solution.\n\n<!-- Solution:\nIn the previous problem we found out that the highest Safety Score is 99, so we can use that as an input in the where clause:\n\n%sql select Name_of_School, Safety_Score from SCHOOLS where Safety_Score = 99\n\nor, a better way:\n\n%sql select Name_of_School, Safety_Score from SCHOOLS where \\\n  Safety_Score= (select MAX(Safety_Score) from SCHOOLS)\n\n\nCorrect answer: several schools with with Safety Score of 99.\n-->\n"
        },
        {
            "cell_type": "markdown",
            "metadata": {},
            "source": "### Problem 4\n\n##### What are the top 10 schools with the highest \"Average Student Attendance\"?\n"
        },
        {
            "cell_type": "code",
            "execution_count": 35,
            "metadata": {},
            "outputs": [
                {
                    "name": "stdout",
                    "output_type": "stream",
                    "text": " * ibm_db_sa://kwd67393:***@824dfd4d-99de-440d-9991-629c01b3832d.bs2io90l08kqb1od8lcg.databases.appdomain.cloud:30119/bludb\nDone.\n"
                },
                {
                    "data": {
                        "text/html": "<table>\n    <tr>\n        <th>name_of_school</th>\n        <th>average_student_attendance</th>\n    </tr>\n    <tr>\n        <td>John Charles Haines Elementary School</td>\n        <td>98.40%</td>\n    </tr>\n    <tr>\n        <td>James Ward Elementary School</td>\n        <td>97.80%</td>\n    </tr>\n    <tr>\n        <td>Edgar Allan Poe Elementary Classical School</td>\n        <td>97.60%</td>\n    </tr>\n    <tr>\n        <td>Orozco Fine Arts &amp; Sciences Elementary School</td>\n        <td>97.60%</td>\n    </tr>\n    <tr>\n        <td>Rachel Carson Elementary School</td>\n        <td>97.60%</td>\n    </tr>\n    <tr>\n        <td>Annie Keller Elementary Gifted Magnet School</td>\n        <td>97.50%</td>\n    </tr>\n    <tr>\n        <td>Andrew Jackson Elementary Language Academy</td>\n        <td>97.40%</td>\n    </tr>\n    <tr>\n        <td>Lenart Elementary Regional Gifted Center</td>\n        <td>97.40%</td>\n    </tr>\n    <tr>\n        <td>Disney II Magnet School</td>\n        <td>97.30%</td>\n    </tr>\n    <tr>\n        <td>John H Vanderpoel Elementary Magnet School</td>\n        <td>97.20%</td>\n    </tr>\n</table>",
                        "text/plain": "[('John Charles Haines Elementary School', '98.40%'),\n ('James Ward Elementary School', '97.80%'),\n ('Edgar Allan Poe Elementary Classical School', '97.60%'),\n ('Orozco Fine Arts & Sciences Elementary School', '97.60%'),\n ('Rachel Carson Elementary School', '97.60%'),\n ('Annie Keller Elementary Gifted Magnet School', '97.50%'),\n ('Andrew Jackson Elementary Language Academy', '97.40%'),\n ('Lenart Elementary Regional Gifted Center', '97.40%'),\n ('Disney II Magnet School', '97.30%'),\n ('John H Vanderpoel Elementary Magnet School', '97.20%')]"
                    },
                    "execution_count": 35,
                    "metadata": {},
                    "output_type": "execute_result"
                }
            ],
            "source": "%sql select distinct NAME_OF_SCHOOL, AVERAGE_STUDENT_ATTENDANCE from SCHOOLS order by AVERAGE_STUDENT_ATTENDANCE desc nulls last limit 10"
        },
        {
            "cell_type": "markdown",
            "metadata": {},
            "source": "Double-click **here** for the solution.\n\n<!-- Solution:\n\n%sql select Name_of_School, Average_Student_Attendance from SCHOOLS \\\n    order by Average_Student_Attendance desc nulls last limit 10 \n\n-->\n"
        },
        {
            "cell_type": "markdown",
            "metadata": {},
            "source": "### Problem 5\n\n##### Retrieve the list of 5 Schools with the lowest Average Student Attendance sorted in ascending order based on attendance\n"
        },
        {
            "cell_type": "code",
            "execution_count": 37,
            "metadata": {},
            "outputs": [
                {
                    "name": "stdout",
                    "output_type": "stream",
                    "text": " * ibm_db_sa://kwd67393:***@824dfd4d-99de-440d-9991-629c01b3832d.bs2io90l08kqb1od8lcg.databases.appdomain.cloud:30119/bludb\nDone.\n"
                },
                {
                    "data": {
                        "text/html": "<table>\n    <tr>\n        <th>name_of_school</th>\n        <th>average_student_attendance</th>\n    </tr>\n    <tr>\n        <td>Richard T Crane Technical Preparatory High School</td>\n        <td>57.90%</td>\n    </tr>\n    <tr>\n        <td>Barbara Vick Early Childhood &amp; Family Center</td>\n        <td>60.90%</td>\n    </tr>\n    <tr>\n        <td>Dyett High School</td>\n        <td>62.50%</td>\n    </tr>\n    <tr>\n        <td>Wendell Phillips Academy High School</td>\n        <td>63.00%</td>\n    </tr>\n    <tr>\n        <td>Orr Academy High School</td>\n        <td>66.30%</td>\n    </tr>\n</table>",
                        "text/plain": "[('Richard T Crane Technical Preparatory High School', '57.90%'),\n ('Barbara Vick Early Childhood & Family Center', '60.90%'),\n ('Dyett High School', '62.50%'),\n ('Wendell Phillips Academy High School', '63.00%'),\n ('Orr Academy High School', '66.30%')]"
                    },
                    "execution_count": 37,
                    "metadata": {},
                    "output_type": "execute_result"
                }
            ],
            "source": "%sql select distinct NAME_OF_SCHOOL, AVERAGE_STUDENT_ATTENDANCE from SCHOOLS order by AVERAGE_STUDENT_ATTENDANCE fetch first 5 rows only"
        },
        {
            "cell_type": "markdown",
            "metadata": {},
            "source": "Double-click **here** for the solution.\n\n<!-- Solution:\n\n%sql SELECT Name_of_School, Average_Student_Attendance  \\\n     from SCHOOLS \\\n     order by Average_Student_Attendance \\\n     fetch first 5 rows only\n\n-->\n"
        },
        {
            "cell_type": "markdown",
            "metadata": {},
            "source": "### Problem 6\n\n##### Now remove the '%' sign from the above result set for Average Student Attendance column\n"
        },
        {
            "cell_type": "code",
            "execution_count": 40,
            "metadata": {},
            "outputs": [
                {
                    "name": "stdout",
                    "output_type": "stream",
                    "text": " * ibm_db_sa://kwd67393:***@824dfd4d-99de-440d-9991-629c01b3832d.bs2io90l08kqb1od8lcg.databases.appdomain.cloud:30119/bludb\nDone.\n"
                },
                {
                    "data": {
                        "text/html": "<table>\n    <tr>\n        <th>name_of_school</th>\n        <th>2</th>\n    </tr>\n    <tr>\n        <td>Richard T Crane Technical Preparatory High School</td>\n        <td>57.90</td>\n    </tr>\n    <tr>\n        <td>Barbara Vick Early Childhood &amp; Family Center</td>\n        <td>60.90</td>\n    </tr>\n    <tr>\n        <td>Dyett High School</td>\n        <td>62.50</td>\n    </tr>\n    <tr>\n        <td>Wendell Phillips Academy High School</td>\n        <td>63.00</td>\n    </tr>\n    <tr>\n        <td>Orr Academy High School</td>\n        <td>66.30</td>\n    </tr>\n</table>",
                        "text/plain": "[('Richard T Crane Technical Preparatory High School', '57.90'),\n ('Barbara Vick Early Childhood & Family Center', '60.90'),\n ('Dyett High School', '62.50'),\n ('Wendell Phillips Academy High School', '63.00'),\n ('Orr Academy High School', '66.30')]"
                    },
                    "execution_count": 40,
                    "metadata": {},
                    "output_type": "execute_result"
                }
            ],
            "source": "%sql select NAME_OF_SCHOOL, replace (AVERAGE_STUDENT_ATTENDANCE, '%', '') from SCHOOLS order by AVERAGE_STUDENT_ATTENDANCE fetch first 5 rows only"
        },
        {
            "cell_type": "markdown",
            "metadata": {},
            "source": "Double-click **here** for a hint\n\n<!--\nUse the REPLACE() function to replace '%' with ''\nSee documentation for this function at:\nhttps://www.ibm.com/support/knowledgecenter/en/SSEPGG_10.5.0/com.ibm.db2.luw.sql.ref.doc/doc/r0000843.html\n-->\n"
        },
        {
            "cell_type": "markdown",
            "metadata": {},
            "source": "Double-click **here** for the solution.\n\n<!-- Hint:\n\n%sql SELECT Name_of_School, REPLACE(Average_Student_Attendance, '%', '') \\\n     from SCHOOLS \\\n     order by Average_Student_Attendance \\\n     fetch first 5 rows only\n\n-->\n"
        },
        {
            "cell_type": "markdown",
            "metadata": {},
            "source": "### Problem 7\n\n##### Which Schools have Average Student Attendance lower than 70%?\n"
        },
        {
            "cell_type": "code",
            "execution_count": 57,
            "metadata": {},
            "outputs": [
                {
                    "name": "stdout",
                    "output_type": "stream",
                    "text": " * ibm_db_sa://kwd67393:***@824dfd4d-99de-440d-9991-629c01b3832d.bs2io90l08kqb1od8lcg.databases.appdomain.cloud:30119/bludb\nDone.\n"
                },
                {
                    "data": {
                        "text/html": "<table>\n    <tr>\n        <th>name_of_school</th>\n        <th>average_student_attendance</th>\n    </tr>\n    <tr>\n        <td>Richard T Crane Technical Preparatory High School</td>\n        <td>57.90%</td>\n    </tr>\n    <tr>\n        <td>Barbara Vick Early Childhood &amp; Family Center</td>\n        <td>60.90%</td>\n    </tr>\n    <tr>\n        <td>Dyett High School</td>\n        <td>62.50%</td>\n    </tr>\n    <tr>\n        <td>Wendell Phillips Academy High School</td>\n        <td>63.00%</td>\n    </tr>\n    <tr>\n        <td>Orr Academy High School</td>\n        <td>66.30%</td>\n    </tr>\n    <tr>\n        <td>Manley Career Academy High School</td>\n        <td>66.80%</td>\n    </tr>\n    <tr>\n        <td>Chicago Vocational Career Academy High School</td>\n        <td>68.80%</td>\n    </tr>\n    <tr>\n        <td>Roberto Clemente Community Academy High School</td>\n        <td>69.60%</td>\n    </tr>\n</table>",
                        "text/plain": "[('Richard T Crane Technical Preparatory High School', '57.90%'),\n ('Barbara Vick Early Childhood & Family Center', '60.90%'),\n ('Dyett High School', '62.50%'),\n ('Wendell Phillips Academy High School', '63.00%'),\n ('Orr Academy High School', '66.30%'),\n ('Manley Career Academy High School', '66.80%'),\n ('Chicago Vocational Career Academy High School', '68.80%'),\n ('Roberto Clemente Community Academy High School', '69.60%')]"
                    },
                    "execution_count": 57,
                    "metadata": {},
                    "output_type": "execute_result"
                }
            ],
            "source": "%sql SELECT Name_of_School, Average_Student_Attendance  \\\n     from SCHOOLS \\\n     where CAST ( REPLACE(Average_Student_Attendance, '%', '') AS DOUBLE ) < 70 \\\n     order by Average_Student_Attendance"
        },
        {
            "cell_type": "markdown",
            "metadata": {},
            "source": "Double-click **here** for a hint\n\n<!--\nThe datatype of the \"Average_Student_Attendance\" column is varchar.\nSo you cannot use it as is in the where clause for a numeric comparison.\nFirst use the CAST() function to cast it as a DECIMAL or DOUBLE\ne.g. CAST(\"Column_Name\" as DOUBLE)\nor simply: DECIMAL(\"Column_Name\")\n-->\n"
        },
        {
            "cell_type": "markdown",
            "metadata": {},
            "source": "Double-click **here** for another hint\n\n<!--\nDon't forget the '%' age sign needs to be removed before casting\n-->\n"
        },
        {
            "cell_type": "markdown",
            "metadata": {},
            "source": "Double-click **here** for the solution.\n\n<!-- Solution:\n\n%sql SELECT Name_of_School, Average_Student_Attendance  \\\n     from SCHOOLS \\\n     where CAST ( REPLACE(Average_Student_Attendance, '%', '') AS DOUBLE ) < 70 \\\n     order by Average_Student_Attendance\n     \nor,\n\n%sql SELECT Name_of_School, Average_Student_Attendance  \\\n     from SCHOOLS \\\n     where DECIMAL ( REPLACE(Average_Student_Attendance, '%', '') ) < 70 \\\n     order by Average_Student_Attendance\n\n-->\n"
        },
        {
            "cell_type": "markdown",
            "metadata": {},
            "source": "### Problem 8\n\n##### Get the total College Enrollment for each Community Area\n"
        },
        {
            "cell_type": "code",
            "execution_count": 61,
            "metadata": {},
            "outputs": [
                {
                    "name": "stdout",
                    "output_type": "stream",
                    "text": " * ibm_db_sa://kwd67393:***@824dfd4d-99de-440d-9991-629c01b3832d.bs2io90l08kqb1od8lcg.databases.appdomain.cloud:30119/bludb\nDone.\n"
                },
                {
                    "data": {
                        "text/html": "<table>\n    <tr>\n        <th>community_area_name</th>\n        <th>total_enrollment</th>\n    </tr>\n    <tr>\n        <td>ALBANY PARK</td>\n        <td>6864</td>\n    </tr>\n    <tr>\n        <td>ARCHER HEIGHTS</td>\n        <td>4823</td>\n    </tr>\n    <tr>\n        <td>ARMOUR SQUARE</td>\n        <td>1458</td>\n    </tr>\n    <tr>\n        <td>ASHBURN</td>\n        <td>6483</td>\n    </tr>\n    <tr>\n        <td>AUBURN GRESHAM</td>\n        <td>4175</td>\n    </tr>\n    <tr>\n        <td>AUSTIN</td>\n        <td>10933</td>\n    </tr>\n    <tr>\n        <td>AVALON PARK</td>\n        <td>1522</td>\n    </tr>\n    <tr>\n        <td>AVONDALE</td>\n        <td>3640</td>\n    </tr>\n    <tr>\n        <td>BELMONT CRAGIN</td>\n        <td>14386</td>\n    </tr>\n    <tr>\n        <td>BEVERLY</td>\n        <td>1636</td>\n    </tr>\n    <tr>\n        <td>BRIDGEPORT</td>\n        <td>3167</td>\n    </tr>\n    <tr>\n        <td>BRIGHTON PARK</td>\n        <td>9647</td>\n    </tr>\n    <tr>\n        <td>BURNSIDE</td>\n        <td>549</td>\n    </tr>\n    <tr>\n        <td>CALUMET HEIGHTS</td>\n        <td>1568</td>\n    </tr>\n    <tr>\n        <td>CHATHAM</td>\n        <td>5042</td>\n    </tr>\n    <tr>\n        <td>CHICAGO LAWN</td>\n        <td>7086</td>\n    </tr>\n    <tr>\n        <td>CLEARING</td>\n        <td>2085</td>\n    </tr>\n    <tr>\n        <td>DOUGLAS</td>\n        <td>4670</td>\n    </tr>\n    <tr>\n        <td>DUNNING</td>\n        <td>4568</td>\n    </tr>\n    <tr>\n        <td>EAST GARFIELD PARK</td>\n        <td>5337</td>\n    </tr>\n    <tr>\n        <td>EAST SIDE</td>\n        <td>5305</td>\n    </tr>\n    <tr>\n        <td>EDGEWATER</td>\n        <td>4600</td>\n    </tr>\n    <tr>\n        <td>EDISON PARK</td>\n        <td>910</td>\n    </tr>\n    <tr>\n        <td>ENGLEWOOD</td>\n        <td>6832</td>\n    </tr>\n    <tr>\n        <td>FOREST GLEN</td>\n        <td>1431</td>\n    </tr>\n    <tr>\n        <td>FULLER PARK</td>\n        <td>531</td>\n    </tr>\n    <tr>\n        <td>GAGE PARK</td>\n        <td>9915</td>\n    </tr>\n    <tr>\n        <td>GARFIELD RIDGE</td>\n        <td>4552</td>\n    </tr>\n    <tr>\n        <td>GRAND BOULEVARD</td>\n        <td>2809</td>\n    </tr>\n    <tr>\n        <td>GREATER GRAND CROSSING</td>\n        <td>4051</td>\n    </tr>\n    <tr>\n        <td>HEGEWISCH</td>\n        <td>963</td>\n    </tr>\n    <tr>\n        <td>HERMOSA</td>\n        <td>3975</td>\n    </tr>\n    <tr>\n        <td>HUMBOLDT PARK</td>\n        <td>8620</td>\n    </tr>\n    <tr>\n        <td>HYDE PARK</td>\n        <td>1930</td>\n    </tr>\n    <tr>\n        <td>IRVING PARK</td>\n        <td>7764</td>\n    </tr>\n    <tr>\n        <td>JEFFERSON PARK</td>\n        <td>1755</td>\n    </tr>\n    <tr>\n        <td>KENWOOD</td>\n        <td>4287</td>\n    </tr>\n    <tr>\n        <td>LAKE VIEW</td>\n        <td>7055</td>\n    </tr>\n    <tr>\n        <td>LINCOLN PARK</td>\n        <td>5615</td>\n    </tr>\n    <tr>\n        <td>LINCOLN SQUARE</td>\n        <td>4132</td>\n    </tr>\n    <tr>\n        <td>LOGAN SQUARE</td>\n        <td>7351</td>\n    </tr>\n    <tr>\n        <td>LOOP</td>\n        <td>871</td>\n    </tr>\n    <tr>\n        <td>LOWER WEST SIDE</td>\n        <td>7257</td>\n    </tr>\n    <tr>\n        <td>MCKINLEY PARK</td>\n        <td>1552</td>\n    </tr>\n    <tr>\n        <td>MONTCLARE</td>\n        <td>1317</td>\n    </tr>\n    <tr>\n        <td>MORGAN PARK</td>\n        <td>3271</td>\n    </tr>\n    <tr>\n        <td>MOUNT GREENWOOD</td>\n        <td>2091</td>\n    </tr>\n    <tr>\n        <td>NEAR NORTH SIDE</td>\n        <td>3362</td>\n    </tr>\n    <tr>\n        <td>NEAR SOUTH SIDE</td>\n        <td>1378</td>\n    </tr>\n    <tr>\n        <td>NEAR WEST SIDE</td>\n        <td>7975</td>\n    </tr>\n    <tr>\n        <td>NEW CITY</td>\n        <td>7922</td>\n    </tr>\n    <tr>\n        <td>NORTH CENTER</td>\n        <td>7541</td>\n    </tr>\n    <tr>\n        <td>NORTH LAWNDALE</td>\n        <td>5146</td>\n    </tr>\n    <tr>\n        <td>NORTH PARK</td>\n        <td>4210</td>\n    </tr>\n    <tr>\n        <td>NORWOOD PARK</td>\n        <td>6469</td>\n    </tr>\n    <tr>\n        <td>OAKLAND</td>\n        <td>140</td>\n    </tr>\n    <tr>\n        <td>OHARE</td>\n        <td>786</td>\n    </tr>\n    <tr>\n        <td>PORTAGE PARK</td>\n        <td>6954</td>\n    </tr>\n    <tr>\n        <td>PULLMAN</td>\n        <td>1620</td>\n    </tr>\n    <tr>\n        <td>RIVERDALE</td>\n        <td>1547</td>\n    </tr>\n    <tr>\n        <td>ROGERS PARK</td>\n        <td>4068</td>\n    </tr>\n    <tr>\n        <td>ROSELAND</td>\n        <td>7020</td>\n    </tr>\n    <tr>\n        <td>SOUTH CHICAGO</td>\n        <td>4043</td>\n    </tr>\n    <tr>\n        <td>SOUTH DEERING</td>\n        <td>1859</td>\n    </tr>\n    <tr>\n        <td>SOUTH LAWNDALE</td>\n        <td>14793</td>\n    </tr>\n    <tr>\n        <td>SOUTH SHORE</td>\n        <td>4543</td>\n    </tr>\n    <tr>\n        <td>UPTOWN</td>\n        <td>4388</td>\n    </tr>\n    <tr>\n        <td>WASHINGTON HEIGHTS</td>\n        <td>4006</td>\n    </tr>\n    <tr>\n        <td>WASHINGTON PARK</td>\n        <td>2648</td>\n    </tr>\n    <tr>\n        <td>WEST ELSDON</td>\n        <td>3700</td>\n    </tr>\n    <tr>\n        <td>WEST ENGLEWOOD</td>\n        <td>5946</td>\n    </tr>\n    <tr>\n        <td>WEST GARFIELD PARK</td>\n        <td>2622</td>\n    </tr>\n    <tr>\n        <td>WEST LAWN</td>\n        <td>4207</td>\n    </tr>\n    <tr>\n        <td>WEST PULLMAN</td>\n        <td>3240</td>\n    </tr>\n    <tr>\n        <td>WEST RIDGE</td>\n        <td>8197</td>\n    </tr>\n    <tr>\n        <td>WEST TOWN</td>\n        <td>9429</td>\n    </tr>\n    <tr>\n        <td>WOODLAWN</td>\n        <td>4206</td>\n    </tr>\n</table>",
                        "text/plain": "[('ALBANY PARK', 6864),\n ('ARCHER HEIGHTS', 4823),\n ('ARMOUR SQUARE', 1458),\n ('ASHBURN', 6483),\n ('AUBURN GRESHAM', 4175),\n ('AUSTIN', 10933),\n ('AVALON PARK', 1522),\n ('AVONDALE', 3640),\n ('BELMONT CRAGIN', 14386),\n ('BEVERLY', 1636),\n ('BRIDGEPORT', 3167),\n ('BRIGHTON PARK', 9647),\n ('BURNSIDE', 549),\n ('CALUMET HEIGHTS', 1568),\n ('CHATHAM', 5042),\n ('CHICAGO LAWN', 7086),\n ('CLEARING', 2085),\n ('DOUGLAS', 4670),\n ('DUNNING', 4568),\n ('EAST GARFIELD PARK', 5337),\n ('EAST SIDE', 5305),\n ('EDGEWATER', 4600),\n ('EDISON PARK', 910),\n ('ENGLEWOOD', 6832),\n ('FOREST GLEN', 1431),\n ('FULLER PARK', 531),\n ('GAGE PARK', 9915),\n ('GARFIELD RIDGE', 4552),\n ('GRAND BOULEVARD', 2809),\n ('GREATER GRAND CROSSING', 4051),\n ('HEGEWISCH', 963),\n ('HERMOSA', 3975),\n ('HUMBOLDT PARK', 8620),\n ('HYDE PARK', 1930),\n ('IRVING PARK', 7764),\n ('JEFFERSON PARK', 1755),\n ('KENWOOD', 4287),\n ('LAKE VIEW', 7055),\n ('LINCOLN PARK', 5615),\n ('LINCOLN SQUARE', 4132),\n ('LOGAN SQUARE', 7351),\n ('LOOP', 871),\n ('LOWER WEST SIDE', 7257),\n ('MCKINLEY PARK', 1552),\n ('MONTCLARE', 1317),\n ('MORGAN PARK', 3271),\n ('MOUNT GREENWOOD', 2091),\n ('NEAR NORTH SIDE', 3362),\n ('NEAR SOUTH SIDE', 1378),\n ('NEAR WEST SIDE', 7975),\n ('NEW CITY', 7922),\n ('NORTH CENTER', 7541),\n ('NORTH LAWNDALE', 5146),\n ('NORTH PARK', 4210),\n ('NORWOOD PARK', 6469),\n ('OAKLAND', 140),\n ('OHARE', 786),\n ('PORTAGE PARK', 6954),\n ('PULLMAN', 1620),\n ('RIVERDALE', 1547),\n ('ROGERS PARK', 4068),\n ('ROSELAND', 7020),\n ('SOUTH CHICAGO', 4043),\n ('SOUTH DEERING', 1859),\n ('SOUTH LAWNDALE', 14793),\n ('SOUTH SHORE', 4543),\n ('UPTOWN', 4388),\n ('WASHINGTON HEIGHTS', 4006),\n ('WASHINGTON PARK', 2648),\n ('WEST ELSDON', 3700),\n ('WEST ENGLEWOOD', 5946),\n ('WEST GARFIELD PARK', 2622),\n ('WEST LAWN', 4207),\n ('WEST PULLMAN', 3240),\n ('WEST RIDGE', 8197),\n ('WEST TOWN', 9429),\n ('WOODLAWN', 4206)]"
                    },
                    "execution_count": 61,
                    "metadata": {},
                    "output_type": "execute_result"
                }
            ],
            "source": "%sql select COMMUNITY_AREA_Name, sum (COLLEGE_ENROLLMENT) as total_enrollment from SCHOOLS group by Community_Area_Name"
        },
        {
            "cell_type": "markdown",
            "metadata": {},
            "source": "Double-click **here** for a hint\n\n<!--\nVerify the exact name of the Enrollment column in the database\nUse the SUM() function to add up the Enrollments for each Community Area\n-->\n"
        },
        {
            "cell_type": "markdown",
            "metadata": {},
            "source": "Double-click **here** for another hint\n\n<!--\nDon't forget to group by the Community Area\n-->\n"
        },
        {
            "cell_type": "markdown",
            "metadata": {},
            "source": "Double-click **here** for the solution.\n\n<!-- Solution:\n\n%sql select Community_Area_Name, sum(College_Enrollment) AS TOTAL_ENROLLMENT \\\n   from SCHOOLS \\\n   group by Community_Area_Name \n\n-->\n"
        },
        {
            "cell_type": "markdown",
            "metadata": {},
            "source": "### Problem 9\n\n##### Get the 5 Community Areas with the least total College Enrollment  sorted in ascending order\n"
        },
        {
            "cell_type": "code",
            "execution_count": 63,
            "metadata": {},
            "outputs": [
                {
                    "name": "stdout",
                    "output_type": "stream",
                    "text": " * ibm_db_sa://kwd67393:***@824dfd4d-99de-440d-9991-629c01b3832d.bs2io90l08kqb1od8lcg.databases.appdomain.cloud:30119/bludb\nDone.\n"
                },
                {
                    "data": {
                        "text/html": "<table>\n    <tr>\n        <th>community_area_name</th>\n        <th>total_enrollment</th>\n    </tr>\n    <tr>\n        <td>OAKLAND</td>\n        <td>140</td>\n    </tr>\n    <tr>\n        <td>FULLER PARK</td>\n        <td>531</td>\n    </tr>\n    <tr>\n        <td>BURNSIDE</td>\n        <td>549</td>\n    </tr>\n    <tr>\n        <td>OHARE</td>\n        <td>786</td>\n    </tr>\n    <tr>\n        <td>LOOP</td>\n        <td>871</td>\n    </tr>\n</table>",
                        "text/plain": "[('OAKLAND', 140),\n ('FULLER PARK', 531),\n ('BURNSIDE', 549),\n ('OHARE', 786),\n ('LOOP', 871)]"
                    },
                    "execution_count": 63,
                    "metadata": {},
                    "output_type": "execute_result"
                }
            ],
            "source": "%sql select COMMUNITY_AREA_Name, sum (COLLEGE_ENROLLMENT) as total_enrollment from SCHOOLS group by Community_Area_Name order by total_enrollment asc \\\n   fetch first 5 rows only"
        },
        {
            "cell_type": "markdown",
            "metadata": {},
            "source": "Double-click **here** for a hint\n\n<!--\nOrder the previous query and limit the number of rows you fetch\n-->\n"
        },
        {
            "cell_type": "markdown",
            "metadata": {},
            "source": "Double-click **here** for the solution.\n\n<!-- Solution:\n\n%sql select Community_Area_Name, sum(College_Enrollment) AS TOTAL_ENROLLMENT \\\n   from SCHOOLS \\\n   group by Community_Area_Name \\\n   order by TOTAL_ENROLLMENT asc \\\n   fetch first 5 rows only\n\n-->\n"
        },
        {
            "cell_type": "markdown",
            "metadata": {},
            "source": "### Problem 10\n\n##### List 5 schools with lowest safety score.\n"
        },
        {
            "cell_type": "code",
            "execution_count": 65,
            "metadata": {},
            "outputs": [
                {
                    "name": "stdout",
                    "output_type": "stream",
                    "text": " * ibm_db_sa://kwd67393:***@824dfd4d-99de-440d-9991-629c01b3832d.bs2io90l08kqb1od8lcg.databases.appdomain.cloud:30119/bludb\nDone.\n"
                },
                {
                    "data": {
                        "text/html": "<table>\n    <tr>\n        <th>name_of_school</th>\n        <th>safety_score</th>\n    </tr>\n    <tr>\n        <td>Edmond Burke Elementary School</td>\n        <td>1</td>\n    </tr>\n    <tr>\n        <td>Luke O&#x27;Toole Elementary School</td>\n        <td>5</td>\n    </tr>\n    <tr>\n        <td>George W Tilton Elementary School</td>\n        <td>6</td>\n    </tr>\n    <tr>\n        <td>Foster Park Elementary School</td>\n        <td>11</td>\n    </tr>\n    <tr>\n        <td>Emil G Hirsch Metropolitan High School</td>\n        <td>13</td>\n    </tr>\n</table>",
                        "text/plain": "[('Edmond Burke Elementary School', 1),\n (\"Luke O'Toole Elementary School\", 5),\n ('George W Tilton Elementary School', 6),\n ('Foster Park Elementary School', 11),\n ('Emil G Hirsch Metropolitan High School', 13)]"
                    },
                    "execution_count": 65,
                    "metadata": {},
                    "output_type": "execute_result"
                }
            ],
            "source": "%sql select name_of_school, safety_score from SCHOOLS order by safety_score limit 5"
        },
        {
            "cell_type": "markdown",
            "metadata": {},
            "source": "Double-click **here** for the solution.\n\n<!-- Solution:\n\n%sql SELECT name_of_school, safety_score\nFROM schools\nORDER BY safety_score\nLIMIT 5\n-->\n"
        },
        {
            "cell_type": "markdown",
            "metadata": {},
            "source": "### Problem 11\n\n##### Get the hardship index for the community area which has College Enrollment of 4368\n"
        },
        {
            "cell_type": "code",
            "execution_count": 69,
            "metadata": {},
            "outputs": [
                {
                    "name": "stdout",
                    "output_type": "stream",
                    "text": " * ibm_db_sa://kwd67393:***@824dfd4d-99de-440d-9991-629c01b3832d.bs2io90l08kqb1od8lcg.databases.appdomain.cloud:30119/bludb\nDone.\n"
                },
                {
                    "data": {
                        "text/html": "<table>\n    <tr>\n        <th>hardship_index</th>\n    </tr>\n    <tr>\n        <td>2.0</td>\n    </tr>\n    <tr>\n        <td>55.0</td>\n    </tr>\n    <tr>\n        <td>37.0</td>\n    </tr>\n    <tr>\n        <td>91.0</td>\n    </tr>\n    <tr>\n        <td>82.0</td>\n    </tr>\n    <tr>\n        <td>53.0</td>\n    </tr>\n    <tr>\n        <td>6.0</td>\n    </tr>\n    <tr>\n        <td>10.0</td>\n    </tr>\n    <tr>\n        <td>6.0</td>\n    </tr>\n    <tr>\n        <td>53.0</td>\n    </tr>\n    <tr>\n        <td>6.0</td>\n    </tr>\n    <tr>\n        <td>91.0</td>\n    </tr>\n    <tr>\n        <td>5.0</td>\n    </tr>\n    <tr>\n        <td>10.0</td>\n    </tr>\n    <tr>\n        <td>52.0</td>\n    </tr>\n    <tr>\n        <td>52.0</td>\n    </tr>\n    <tr>\n        <td>85.0</td>\n    </tr>\n    <tr>\n        <td>12.0</td>\n    </tr>\n    <tr>\n        <td>83.0</td>\n    </tr>\n    <tr>\n        <td>87.0</td>\n    </tr>\n    <tr>\n        <td>38.0</td>\n    </tr>\n    <tr>\n        <td>23.0</td>\n    </tr>\n    <tr>\n        <td>94.0</td>\n    </tr>\n    <tr>\n        <td>10.0</td>\n    </tr>\n    <tr>\n        <td>58.0</td>\n    </tr>\n    <tr>\n        <td>15.0</td>\n    </tr>\n    <tr>\n        <td>89.0</td>\n    </tr>\n    <tr>\n        <td>16.0</td>\n    </tr>\n    <tr>\n        <td>10.0</td>\n    </tr>\n    <tr>\n        <td>57.0</td>\n    </tr>\n    <tr>\n        <td>26.0</td>\n    </tr>\n    <tr>\n        <td>89.0</td>\n    </tr>\n    <tr>\n        <td>75.0</td>\n    </tr>\n    <tr>\n        <td>91.0</td>\n    </tr>\n    <tr>\n        <td>60.0</td>\n    </tr>\n    <tr>\n        <td>28.0</td>\n    </tr>\n    <tr>\n        <td>60.0</td>\n    </tr>\n    <tr>\n        <td>89.0</td>\n    </tr>\n    <tr>\n        <td>37.0</td>\n    </tr>\n    <tr>\n        <td>5.0</td>\n    </tr>\n    <tr>\n        <td>73.0</td>\n    </tr>\n    <tr>\n        <td>58.0</td>\n    </tr>\n    <tr>\n        <td>73.0</td>\n    </tr>\n    <tr>\n        <td>41.0</td>\n    </tr>\n    <tr>\n        <td>30.0</td>\n    </tr>\n    <tr>\n        <td>70.0</td>\n    </tr>\n    <tr>\n        <td>76.0</td>\n    </tr>\n    <tr>\n        <td>94.0</td>\n    </tr>\n    <tr>\n        <td>94.0</td>\n    </tr>\n    <tr>\n        <td>10.0</td>\n    </tr>\n    <tr>\n        <td>88.0</td>\n    </tr>\n    <tr>\n        <td>26.0</td>\n    </tr>\n    <tr>\n        <td>29.0</td>\n    </tr>\n    <tr>\n        <td>14.0</td>\n    </tr>\n    <tr>\n        <td>85.0</td>\n    </tr>\n    <tr>\n        <td>84.0</td>\n    </tr>\n    <tr>\n        <td>57.0</td>\n    </tr>\n    <tr>\n        <td>65.0</td>\n    </tr>\n    <tr>\n        <td>60.0</td>\n    </tr>\n    <tr>\n        <td>84.0</td>\n    </tr>\n    <tr>\n        <td>34.0</td>\n    </tr>\n    <tr>\n        <td>42.0</td>\n    </tr>\n    <tr>\n        <td>94.0</td>\n    </tr>\n    <tr>\n        <td>37.0</td>\n    </tr>\n    <tr>\n        <td>57.0</td>\n    </tr>\n    <tr>\n        <td>91.0</td>\n    </tr>\n    <tr>\n        <td>70.0</td>\n    </tr>\n    <tr>\n        <td>87.0</td>\n    </tr>\n    <tr>\n        <td>37.0</td>\n    </tr>\n    <tr>\n        <td>96.0</td>\n    </tr>\n    <tr>\n        <td>48.0</td>\n    </tr>\n    <tr>\n        <td>14.0</td>\n    </tr>\n    <tr>\n        <td>43.0</td>\n    </tr>\n    <tr>\n        <td>41.0</td>\n    </tr>\n    <tr>\n        <td>70.0</td>\n    </tr>\n    <tr>\n        <td>23.0</td>\n    </tr>\n    <tr>\n        <td>89.0</td>\n    </tr>\n    <tr>\n        <td>66.0</td>\n    </tr>\n    <tr>\n        <td>66.0</td>\n    </tr>\n    <tr>\n        <td>92.0</td>\n    </tr>\n    <tr>\n        <td>89.0</td>\n    </tr>\n    <tr>\n        <td>28.0</td>\n    </tr>\n    <tr>\n        <td>28.0</td>\n    </tr>\n    <tr>\n        <td>16.0</td>\n    </tr>\n    <tr>\n        <td>47.0</td>\n    </tr>\n    <tr>\n        <td>41.0</td>\n    </tr>\n    <tr>\n        <td>8.0</td>\n    </tr>\n    <tr>\n        <td>52.0</td>\n    </tr>\n    <tr>\n        <td>10.0</td>\n    </tr>\n    <tr>\n        <td>74.0</td>\n    </tr>\n    <tr>\n        <td>80.0</td>\n    </tr>\n    <tr>\n        <td>87.0</td>\n    </tr>\n    <tr>\n        <td>84.0</td>\n    </tr>\n    <tr>\n        <td>52.0</td>\n    </tr>\n    <tr>\n        <td>57.0</td>\n    </tr>\n    <tr>\n        <td>87.0</td>\n    </tr>\n    <tr>\n        <td>96.0</td>\n    </tr>\n    <tr>\n        <td>46.0</td>\n    </tr>\n    <tr>\n        <td>21.0</td>\n    </tr>\n    <tr>\n        <td>57.0</td>\n    </tr>\n    <tr>\n        <td>96.0</td>\n    </tr>\n    <tr>\n        <td>85.0</td>\n    </tr>\n    <tr>\n        <td>94.0</td>\n    </tr>\n    <tr>\n        <td>92.0</td>\n    </tr>\n    <tr>\n        <td>96.0</td>\n    </tr>\n    <tr>\n        <td>6.0</td>\n    </tr>\n    <tr>\n        <td>91.0</td>\n    </tr>\n    <tr>\n        <td>46.0</td>\n    </tr>\n    <tr>\n        <td>34.0</td>\n    </tr>\n    <tr>\n        <td>80.0</td>\n    </tr>\n    <tr>\n        <td>64.0</td>\n    </tr>\n    <tr>\n        <td>70.0</td>\n    </tr>\n    <tr>\n        <td>26.0</td>\n    </tr>\n    <tr>\n        <td>58.0</td>\n    </tr>\n    <tr>\n        <td>52.0</td>\n    </tr>\n    <tr>\n        <td>37.0</td>\n    </tr>\n    <tr>\n        <td>87.0</td>\n    </tr>\n    <tr>\n        <td>88.0</td>\n    </tr>\n    <tr>\n        <td>51.0</td>\n    </tr>\n    <tr>\n        <td>11.0</td>\n    </tr>\n    <tr>\n        <td>21.0</td>\n    </tr>\n    <tr>\n        <td>88.0</td>\n    </tr>\n    <tr>\n        <td>55.0</td>\n    </tr>\n    <tr>\n        <td>88.0</td>\n    </tr>\n    <tr>\n        <td>92.0</td>\n    </tr>\n    <tr>\n        <td>75.0</td>\n    </tr>\n    <tr>\n        <td>61.0</td>\n    </tr>\n    <tr>\n        <td>1.0</td>\n    </tr>\n    <tr>\n        <td>73.0</td>\n    </tr>\n    <tr>\n        <td>56.0</td>\n    </tr>\n    <tr>\n        <td>91.0</td>\n    </tr>\n    <tr>\n        <td>62.0</td>\n    </tr>\n    <tr>\n        <td>35.0</td>\n    </tr>\n    <tr>\n        <td>89.0</td>\n    </tr>\n    <tr>\n        <td>66.0</td>\n    </tr>\n    <tr>\n        <td>96.0</td>\n    </tr>\n    <tr>\n        <td>12.0</td>\n    </tr>\n    <tr>\n        <td>10.0</td>\n    </tr>\n    <tr>\n        <td>17.0</td>\n    </tr>\n    <tr>\n        <td>73.0</td>\n    </tr>\n    <tr>\n        <td>91.0</td>\n    </tr>\n    <tr>\n        <td>10.0</td>\n    </tr>\n    <tr>\n        <td>66.0</td>\n    </tr>\n    <tr>\n        <td>96.0</td>\n    </tr>\n    <tr>\n        <td>58.0</td>\n    </tr>\n    <tr>\n        <td>55.0</td>\n    </tr>\n    <tr>\n        <td>93.0</td>\n    </tr>\n    <tr>\n        <td>93.0</td>\n    </tr>\n    <tr>\n        <td>35.0</td>\n    </tr>\n    <tr>\n        <td>30.0</td>\n    </tr>\n    <tr>\n        <td>39.0</td>\n    </tr>\n    <tr>\n        <td>24.0</td>\n    </tr>\n    <tr>\n        <td>61.0</td>\n    </tr>\n    <tr>\n        <td>80.0</td>\n    </tr>\n    <tr>\n        <td>42.0</td>\n    </tr>\n    <tr>\n        <td>15.0</td>\n    </tr>\n    <tr>\n        <td>69.0</td>\n    </tr>\n    <tr>\n        <td>48.0</td>\n    </tr>\n    <tr>\n        <td>26.0</td>\n    </tr>\n    <tr>\n        <td>93.0</td>\n    </tr>\n    <tr>\n        <td>48.0</td>\n    </tr>\n    <tr>\n        <td>74.0</td>\n    </tr>\n    <tr>\n        <td>96.0</td>\n    </tr>\n    <tr>\n        <td>80.0</td>\n    </tr>\n    <tr>\n        <td>97.0</td>\n    </tr>\n    <tr>\n        <td>73.0</td>\n    </tr>\n    <tr>\n        <td>94.0</td>\n    </tr>\n    <tr>\n        <td>52.0</td>\n    </tr>\n    <tr>\n        <td>52.0</td>\n    </tr>\n    <tr>\n        <td>1.0</td>\n    </tr>\n    <tr>\n        <td>84.0</td>\n    </tr>\n    <tr>\n        <td>42.0</td>\n    </tr>\n    <tr>\n        <td>70.0</td>\n    </tr>\n    <tr>\n        <td>87.0</td>\n    </tr>\n    <tr>\n        <td>10.0</td>\n    </tr>\n    <tr>\n        <td>73.0</td>\n    </tr>\n    <tr>\n        <td>23.0</td>\n    </tr>\n    <tr>\n        <td>8.0</td>\n    </tr>\n    <tr>\n        <td>6.0</td>\n    </tr>\n    <tr>\n        <td>33.0</td>\n    </tr>\n    <tr>\n        <td>93.0</td>\n    </tr>\n    <tr>\n        <td>15.0</td>\n    </tr>\n    <tr>\n        <td>74.0</td>\n    </tr>\n    <tr>\n        <td>92.0</td>\n    </tr>\n    <tr>\n        <td>46.0</td>\n    </tr>\n    <tr>\n        <td>43.0</td>\n    </tr>\n    <tr>\n        <td>19.0</td>\n    </tr>\n    <tr>\n        <td>16.0</td>\n    </tr>\n    <tr>\n        <td>51.0</td>\n    </tr>\n    <tr>\n        <td>73.0</td>\n    </tr>\n    <tr>\n        <td>1.0</td>\n    </tr>\n    <tr>\n        <td>51.0</td>\n    </tr>\n    <tr>\n        <td>73.0</td>\n    </tr>\n    <tr>\n        <td>98.0</td>\n    </tr>\n    <tr>\n        <td>98.0</td>\n    </tr>\n    <tr>\n        <td>64.0</td>\n    </tr>\n    <tr>\n        <td>64.0</td>\n    </tr>\n    <tr>\n        <td>52.0</td>\n    </tr>\n    <tr>\n        <td>85.0</td>\n    </tr>\n    <tr>\n        <td>92.0</td>\n    </tr>\n    <tr>\n        <td>96.0</td>\n    </tr>\n    <tr>\n        <td>20.0</td>\n    </tr>\n    <tr>\n        <td>89.0</td>\n    </tr>\n    <tr>\n        <td>96.0</td>\n    </tr>\n    <tr>\n        <td>34.0</td>\n    </tr>\n    <tr>\n        <td>92.0</td>\n    </tr>\n    <tr>\n        <td>56.0</td>\n    </tr>\n    <tr>\n        <td>52.0</td>\n    </tr>\n    <tr>\n        <td>33.0</td>\n    </tr>\n    <tr>\n        <td>70.0</td>\n    </tr>\n    <tr>\n        <td>79.0</td>\n    </tr>\n    <tr>\n        <td>85.0</td>\n    </tr>\n    <tr>\n        <td>73.0</td>\n    </tr>\n    <tr>\n        <td>5.0</td>\n    </tr>\n    <tr>\n        <td>92.0</td>\n    </tr>\n    <tr>\n        <td>19.0</td>\n    </tr>\n    <tr>\n        <td>53.0</td>\n    </tr>\n    <tr>\n        <td>44.0</td>\n    </tr>\n    <tr>\n        <td>70.0</td>\n    </tr>\n    <tr>\n        <td>73.0</td>\n    </tr>\n    <tr>\n        <td>66.0</td>\n    </tr>\n    <tr>\n        <td>30.0</td>\n    </tr>\n    <tr>\n        <td>55.0</td>\n    </tr>\n    <tr>\n        <td>34.0</td>\n    </tr>\n    <tr>\n        <td>94.0</td>\n    </tr>\n    <tr>\n        <td>5.0</td>\n    </tr>\n    <tr>\n        <td>75.0</td>\n    </tr>\n    <tr>\n        <td>73.0</td>\n    </tr>\n    <tr>\n        <td>58.0</td>\n    </tr>\n    <tr>\n        <td>19.0</td>\n    </tr>\n    <tr>\n        <td>47.0</td>\n    </tr>\n    <tr>\n        <td>96.0</td>\n    </tr>\n    <tr>\n        <td>96.0</td>\n    </tr>\n    <tr>\n        <td>5.0</td>\n    </tr>\n    <tr>\n        <td>98.0</td>\n    </tr>\n    <tr>\n        <td>93.0</td>\n    </tr>\n    <tr>\n        <td>76.0</td>\n    </tr>\n    <tr>\n        <td>57.0</td>\n    </tr>\n    <tr>\n        <td>55.0</td>\n    </tr>\n    <tr>\n        <td>78.0</td>\n    </tr>\n    <tr>\n        <td>83.0</td>\n    </tr>\n    <tr>\n        <td>35.0</td>\n    </tr>\n    <tr>\n        <td>25.0</td>\n    </tr>\n    <tr>\n        <td>17.0</td>\n    </tr>\n    <tr>\n        <td>60.0</td>\n    </tr>\n    <tr>\n        <td>5.0</td>\n    </tr>\n    <tr>\n        <td>91.0</td>\n    </tr>\n    <tr>\n        <td>55.0</td>\n    </tr>\n    <tr>\n        <td>23.0</td>\n    </tr>\n    <tr>\n        <td>75.0</td>\n    </tr>\n    <tr>\n        <td>10.0</td>\n    </tr>\n    <tr>\n        <td>47.0</td>\n    </tr>\n    <tr>\n        <td>85.0</td>\n    </tr>\n    <tr>\n        <td>84.0</td>\n    </tr>\n    <tr>\n        <td>58.0</td>\n    </tr>\n    <tr>\n        <td>82.0</td>\n    </tr>\n    <tr>\n        <td>87.0</td>\n    </tr>\n    <tr>\n        <td>64.0</td>\n    </tr>\n    <tr>\n        <td>60.0</td>\n    </tr>\n    <tr>\n        <td>25.0</td>\n    </tr>\n    <tr>\n        <td>10.0</td>\n    </tr>\n    <tr>\n        <td>83.0</td>\n    </tr>\n    <tr>\n        <td>62.0</td>\n    </tr>\n    <tr>\n        <td>94.0</td>\n    </tr>\n    <tr>\n        <td>23.0</td>\n    </tr>\n    <tr>\n        <td>76.0</td>\n    </tr>\n    <tr>\n        <td>71.0</td>\n    </tr>\n    <tr>\n        <td>47.0</td>\n    </tr>\n    <tr>\n        <td>34.0</td>\n    </tr>\n    <tr>\n        <td>83.0</td>\n    </tr>\n    <tr>\n        <td>84.0</td>\n    </tr>\n    <tr>\n        <td>6.0</td>\n    </tr>\n    <tr>\n        <td>29.0</td>\n    </tr>\n    <tr>\n        <td>82.0</td>\n    </tr>\n    <tr>\n        <td>30.0</td>\n    </tr>\n    <tr>\n        <td>80.0</td>\n    </tr>\n    <tr>\n        <td>58.0</td>\n    </tr>\n    <tr>\n        <td>32.0</td>\n    </tr>\n    <tr>\n        <td>66.0</td>\n    </tr>\n    <tr>\n        <td>76.0</td>\n    </tr>\n    <tr>\n        <td>69.0</td>\n    </tr>\n    <tr>\n        <td>66.0</td>\n    </tr>\n    <tr>\n        <td>73.0</td>\n    </tr>\n    <tr>\n        <td>91.0</td>\n    </tr>\n    <tr>\n        <td>32.0</td>\n    </tr>\n    <tr>\n        <td>12.0</td>\n    </tr>\n    <tr>\n        <td>6.0</td>\n    </tr>\n    <tr>\n        <td>47.0</td>\n    </tr>\n    <tr>\n        <td>65.0</td>\n    </tr>\n    <tr>\n        <td>83.0</td>\n    </tr>\n    <tr>\n        <td>52.0</td>\n    </tr>\n    <tr>\n        <td>83.0</td>\n    </tr>\n    <tr>\n        <td>15.0</td>\n    </tr>\n    <tr>\n        <td>62.0</td>\n    </tr>\n    <tr>\n        <td>53.0</td>\n    </tr>\n    <tr>\n        <td>89.0</td>\n    </tr>\n    <tr>\n        <td>96.0</td>\n    </tr>\n    <tr>\n        <td>20.0</td>\n    </tr>\n    <tr>\n        <td>60.0</td>\n    </tr>\n    <tr>\n        <td>74.0</td>\n    </tr>\n    <tr>\n        <td>21.0</td>\n    </tr>\n    <tr>\n        <td>62.0</td>\n    </tr>\n    <tr>\n        <td>10.0</td>\n    </tr>\n    <tr>\n        <td>34.0</td>\n    </tr>\n    <tr>\n        <td>39.0</td>\n    </tr>\n    <tr>\n        <td>10.0</td>\n    </tr>\n    <tr>\n        <td>96.0</td>\n    </tr>\n    <tr>\n        <td>20.0</td>\n    </tr>\n    <tr>\n        <td>96.0</td>\n    </tr>\n    <tr>\n        <td>50.0</td>\n    </tr>\n    <tr>\n        <td>76.0</td>\n    </tr>\n    <tr>\n        <td>83.0</td>\n    </tr>\n    <tr>\n        <td>73.0</td>\n    </tr>\n    <tr>\n        <td>20.0</td>\n    </tr>\n    <tr>\n        <td>38.0</td>\n    </tr>\n    <tr>\n        <td>94.0</td>\n    </tr>\n    <tr>\n        <td>76.0</td>\n    </tr>\n    <tr>\n        <td>39.0</td>\n    </tr>\n    <tr>\n        <td>87.0</td>\n    </tr>\n    <tr>\n        <td>73.0</td>\n    </tr>\n    <tr>\n        <td>38.0</td>\n    </tr>\n    <tr>\n        <td>12.0</td>\n    </tr>\n    <tr>\n        <td>71.0</td>\n    </tr>\n    <tr>\n        <td>26.0</td>\n    </tr>\n    <tr>\n        <td>5.0</td>\n    </tr>\n    <tr>\n        <td>52.0</td>\n    </tr>\n    <tr>\n        <td>2.0</td>\n    </tr>\n    <tr>\n        <td>10.0</td>\n    </tr>\n    <tr>\n        <td>70.0</td>\n    </tr>\n    <tr>\n        <td>85.0</td>\n    </tr>\n    <tr>\n        <td>87.0</td>\n    </tr>\n    <tr>\n        <td>96.0</td>\n    </tr>\n    <tr>\n        <td>83.0</td>\n    </tr>\n    <tr>\n        <td>60.0</td>\n    </tr>\n    <tr>\n        <td>73.0</td>\n    </tr>\n    <tr>\n        <td>2.0</td>\n    </tr>\n    <tr>\n        <td>37.0</td>\n    </tr>\n    <tr>\n        <td>96.0</td>\n    </tr>\n    <tr>\n        <td>42.0</td>\n    </tr>\n    <tr>\n        <td>23.0</td>\n    </tr>\n    <tr>\n        <td>5.0</td>\n    </tr>\n    <tr>\n        <td>2.0</td>\n    </tr>\n    <tr>\n        <td>73.0</td>\n    </tr>\n    <tr>\n        <td>5.0</td>\n    </tr>\n    <tr>\n        <td>69.0</td>\n    </tr>\n    <tr>\n        <td>57.0</td>\n    </tr>\n    <tr>\n        <td>89.0</td>\n    </tr>\n    <tr>\n        <td>70.0</td>\n    </tr>\n    <tr>\n        <td>17.0</td>\n    </tr>\n    <tr>\n        <td>19.0</td>\n    </tr>\n    <tr>\n        <td>74.0</td>\n    </tr>\n    <tr>\n        <td>10.0</td>\n    </tr>\n    <tr>\n        <td>83.0</td>\n    </tr>\n    <tr>\n        <td>76.0</td>\n    </tr>\n    <tr>\n        <td>48.0</td>\n    </tr>\n    <tr>\n        <td>56.0</td>\n    </tr>\n    <tr>\n        <td>96.0</td>\n    </tr>\n    <tr>\n        <td>67.0</td>\n    </tr>\n    <tr>\n        <td>15.0</td>\n    </tr>\n    <tr>\n        <td>43.0</td>\n    </tr>\n    <tr>\n        <td>15.0</td>\n    </tr>\n    <tr>\n        <td>32.0</td>\n    </tr>\n    <tr>\n        <td>80.0</td>\n    </tr>\n    <tr>\n        <td>66.0</td>\n    </tr>\n    <tr>\n        <td>85.0</td>\n    </tr>\n    <tr>\n        <td>70.0</td>\n    </tr>\n    <tr>\n        <td>5.0</td>\n    </tr>\n    <tr>\n        <td>38.0</td>\n    </tr>\n    <tr>\n        <td>33.0</td>\n    </tr>\n    <tr>\n        <td>70.0</td>\n    </tr>\n    <tr>\n        <td>83.0</td>\n    </tr>\n    <tr>\n        <td>83.0</td>\n    </tr>\n    <tr>\n        <td>87.0</td>\n    </tr>\n    <tr>\n        <td>87.0</td>\n    </tr>\n    <tr>\n        <td>64.0</td>\n    </tr>\n    <tr>\n        <td>48.0</td>\n    </tr>\n    <tr>\n        <td>57.0</td>\n    </tr>\n    <tr>\n        <td>83.0</td>\n    </tr>\n    <tr>\n        <td>32.0</td>\n    </tr>\n    <tr>\n        <td>73.0</td>\n    </tr>\n    <tr>\n        <td>52.0</td>\n    </tr>\n    <tr>\n        <td>73.0</td>\n    </tr>\n    <tr>\n        <td>46.0</td>\n    </tr>\n    <tr>\n        <td>26.0</td>\n    </tr>\n    <tr>\n        <td>30.0</td>\n    </tr>\n    <tr>\n        <td>85.0</td>\n    </tr>\n    <tr>\n        <td>15.0</td>\n    </tr>\n    <tr>\n        <td>16.0</td>\n    </tr>\n    <tr>\n        <td>48.0</td>\n    </tr>\n    <tr>\n        <td>96.0</td>\n    </tr>\n    <tr>\n        <td>55.0</td>\n    </tr>\n    <tr>\n        <td>61.0</td>\n    </tr>\n    <tr>\n        <td>29.0</td>\n    </tr>\n    <tr>\n        <td>87.0</td>\n    </tr>\n    <tr>\n        <td>92.0</td>\n    </tr>\n    <tr>\n        <td>84.0</td>\n    </tr>\n    <tr>\n        <td>7.0</td>\n    </tr>\n    <tr>\n        <td>60.0</td>\n    </tr>\n    <tr>\n        <td>10.0</td>\n    </tr>\n    <tr>\n        <td>39.0</td>\n    </tr>\n    <tr>\n        <td>75.0</td>\n    </tr>\n    <tr>\n        <td>34.0</td>\n    </tr>\n    <tr>\n        <td>19.0</td>\n    </tr>\n    <tr>\n        <td>94.0</td>\n    </tr>\n    <tr>\n        <td>75.0</td>\n    </tr>\n    <tr>\n        <td>28.0</td>\n    </tr>\n    <tr>\n        <td>85.0</td>\n    </tr>\n    <tr>\n        <td>53.0</td>\n    </tr>\n    <tr>\n        <td>33.0</td>\n    </tr>\n    <tr>\n        <td>48.0</td>\n    </tr>\n    <tr>\n        <td>33.0</td>\n    </tr>\n    <tr>\n        <td>70.0</td>\n    </tr>\n    <tr>\n        <td>21.0</td>\n    </tr>\n    <tr>\n        <td>10.0</td>\n    </tr>\n    <tr>\n        <td>28.0</td>\n    </tr>\n    <tr>\n        <td>60.0</td>\n    </tr>\n    <tr>\n        <td>94.0</td>\n    </tr>\n    <tr>\n        <td>21.0</td>\n    </tr>\n    <tr>\n        <td>76.0</td>\n    </tr>\n    <tr>\n        <td>85.0</td>\n    </tr>\n    <tr>\n        <td>65.0</td>\n    </tr>\n    <tr>\n        <td>73.0</td>\n    </tr>\n    <tr>\n        <td>2.0</td>\n    </tr>\n    <tr>\n        <td>85.0</td>\n    </tr>\n    <tr>\n        <td>66.0</td>\n    </tr>\n    <tr>\n        <td>55.0</td>\n    </tr>\n    <tr>\n        <td>34.0</td>\n    </tr>\n    <tr>\n        <td>74.0</td>\n    </tr>\n    <tr>\n        <td>47.0</td>\n    </tr>\n    <tr>\n        <td>66.0</td>\n    </tr>\n    <tr>\n        <td>94.0</td>\n    </tr>\n    <tr>\n        <td>94.0</td>\n    </tr>\n    <tr>\n        <td>47.0</td>\n    </tr>\n    <tr>\n        <td>35.0</td>\n    </tr>\n    <tr>\n        <td>76.0</td>\n    </tr>\n    <tr>\n        <td>46.0</td>\n    </tr>\n    <tr>\n        <td>43.0</td>\n    </tr>\n    <tr>\n        <td>14.0</td>\n    </tr>\n    <tr>\n        <td>32.0</td>\n    </tr>\n    <tr>\n        <td>15.0</td>\n    </tr>\n    <tr>\n        <td>76.0</td>\n    </tr>\n    <tr>\n        <td>35.0</td>\n    </tr>\n    <tr>\n        <td>23.0</td>\n    </tr>\n    <tr>\n        <td>93.0</td>\n    </tr>\n    <tr>\n        <td>62.0</td>\n    </tr>\n    <tr>\n        <td>5.0</td>\n    </tr>\n    <tr>\n        <td>7.0</td>\n    </tr>\n    <tr>\n        <td>67.0</td>\n    </tr>\n    <tr>\n        <td>56.0</td>\n    </tr>\n    <tr>\n        <td>91.0</td>\n    </tr>\n    <tr>\n        <td>74.0</td>\n    </tr>\n    <tr>\n        <td>15.0</td>\n    </tr>\n    <tr>\n        <td>23.0</td>\n    </tr>\n    <tr>\n        <td>17.0</td>\n    </tr>\n    <tr>\n        <td>38.0</td>\n    </tr>\n    <tr>\n        <td>73.0</td>\n    </tr>\n    <tr>\n        <td>91.0</td>\n    </tr>\n    <tr>\n        <td>43.0</td>\n    </tr>\n    <tr>\n        <td>65.0</td>\n    </tr>\n    <tr>\n        <td>29.0</td>\n    </tr>\n    <tr>\n        <td>89.0</td>\n    </tr>\n    <tr>\n        <td>15.0</td>\n    </tr>\n    <tr>\n        <td>10.0</td>\n    </tr>\n    <tr>\n        <td>10.0</td>\n    </tr>\n    <tr>\n        <td>39.0</td>\n    </tr>\n    <tr>\n        <td>62.0</td>\n    </tr>\n    <tr>\n        <td>73.0</td>\n    </tr>\n    <tr>\n        <td>96.0</td>\n    </tr>\n    <tr>\n        <td>87.0</td>\n    </tr>\n    <tr>\n        <td>48.0</td>\n    </tr>\n    <tr>\n        <td>1.0</td>\n    </tr>\n    <tr>\n        <td>21.0</td>\n    </tr>\n    <tr>\n        <td>23.0</td>\n    </tr>\n    <tr>\n        <td>62.0</td>\n    </tr>\n    <tr>\n        <td>11.0</td>\n    </tr>\n    <tr>\n        <td>74.0</td>\n    </tr>\n    <tr>\n        <td>71.0</td>\n    </tr>\n    <tr>\n        <td>93.0</td>\n    </tr>\n    <tr>\n        <td>94.0</td>\n    </tr>\n    <tr>\n        <td>89.0</td>\n    </tr>\n    <tr>\n        <td>1.0</td>\n    </tr>\n    <tr>\n        <td>93.0</td>\n    </tr>\n    <tr>\n        <td>62.0</td>\n    </tr>\n    <tr>\n        <td>7.0</td>\n    </tr>\n    <tr>\n        <td>55.0</td>\n    </tr>\n    <tr>\n        <td>89.0</td>\n    </tr>\n    <tr>\n        <td>73.0</td>\n    </tr>\n    <tr>\n        <td>96.0</td>\n    </tr>\n    <tr>\n        <td>46.0</td>\n    </tr>\n    <tr>\n        <td>39.0</td>\n    </tr>\n    <tr>\n        <td>19.0</td>\n    </tr>\n    <tr>\n        <td>46.0</td>\n    </tr>\n    <tr>\n        <td>46.0</td>\n    </tr>\n    <tr>\n        <td>15.0</td>\n    </tr>\n    <tr>\n        <td>93.0</td>\n    </tr>\n    <tr>\n        <td>80.0</td>\n    </tr>\n    <tr>\n        <td>94.0</td>\n    </tr>\n    <tr>\n        <td>96.0</td>\n    </tr>\n    <tr>\n        <td>87.0</td>\n    </tr>\n    <tr>\n        <td>53.0</td>\n    </tr>\n    <tr>\n        <td>51.0</td>\n    </tr>\n    <tr>\n        <td>53.0</td>\n    </tr>\n    <tr>\n        <td>97.0</td>\n    </tr>\n    <tr>\n        <td>87.0</td>\n    </tr>\n    <tr>\n        <td>23.0</td>\n    </tr>\n    <tr>\n        <td>38.0</td>\n    </tr>\n    <tr>\n        <td>62.0</td>\n    </tr>\n    <tr>\n        <td>17.0</td>\n    </tr>\n    <tr>\n        <td>84.0</td>\n    </tr>\n    <tr>\n        <td>34.0</td>\n    </tr>\n    <tr>\n        <td>52.0</td>\n    </tr>\n    <tr>\n        <td>20.0</td>\n    </tr>\n    <tr>\n        <td>61.0</td>\n    </tr>\n    <tr>\n        <td>15.0</td>\n    </tr>\n    <tr>\n        <td>44.0</td>\n    </tr>\n    <tr>\n        <td>73.0</td>\n    </tr>\n    <tr>\n        <td>20.0</td>\n    </tr>\n    <tr>\n        <td>2.0</td>\n    </tr>\n    <tr>\n        <td>1.0</td>\n    </tr>\n    <tr>\n        <td>74.0</td>\n    </tr>\n    <tr>\n        <td>94.0</td>\n    </tr>\n    <tr>\n        <td>93.0</td>\n    </tr>\n    <tr>\n        <td>35.0</td>\n    </tr>\n    <tr>\n        <td>15.0</td>\n    </tr>\n    <tr>\n        <td>10.0</td>\n    </tr>\n    <tr>\n        <td>48.0</td>\n    </tr>\n    <tr>\n        <td>47.0</td>\n    </tr>\n    <tr>\n        <td>51.0</td>\n    </tr>\n    <tr>\n        <td>85.0</td>\n    </tr>\n    <tr>\n        <td>62.0</td>\n    </tr>\n    <tr>\n        <td>46.0</td>\n    </tr>\n    <tr>\n        <td>15.0</td>\n    </tr>\n    <tr>\n        <td>11.0</td>\n    </tr>\n    <tr>\n        <td>83.0</td>\n    </tr>\n    <tr>\n        <td>94.0</td>\n    </tr>\n    <tr>\n        <td>37.0</td>\n    </tr>\n    <tr>\n        <td>1.0</td>\n    </tr>\n    <tr>\n        <td>20.0</td>\n    </tr>\n    <tr>\n        <td>26.0</td>\n    </tr>\n    <tr>\n        <td>98.0</td>\n    </tr>\n    <tr>\n        <td>28.0</td>\n    </tr>\n    <tr>\n        <td>76.0</td>\n    </tr>\n    <tr>\n        <td>53.0</td>\n    </tr>\n    <tr>\n        <td>15.0</td>\n    </tr>\n    <tr>\n        <td>15.0</td>\n    </tr>\n    <tr>\n        <td>21.0</td>\n    </tr>\n    <tr>\n        <td>2.0</td>\n    </tr>\n    <tr>\n        <td>14.0</td>\n    </tr>\n    <tr>\n        <td>74.0</td>\n    </tr>\n    <tr>\n        <td>91.0</td>\n    </tr>\n    <tr>\n        <td>37.0</td>\n    </tr>\n    <tr>\n        <td>47.0</td>\n    </tr>\n    <tr>\n        <td>21.0</td>\n    </tr>\n    <tr>\n        <td>3.0</td>\n    </tr>\n    <tr>\n        <td>75.0</td>\n    </tr>\n    <tr>\n        <td>87.0</td>\n    </tr>\n    <tr>\n        <td>35.0</td>\n    </tr>\n    <tr>\n        <td>71.0</td>\n    </tr>\n    <tr>\n        <td>89.0</td>\n    </tr>\n    <tr>\n        <td>47.0</td>\n    </tr>\n    <tr>\n        <td>47.0</td>\n    </tr>\n    <tr>\n        <td>91.0</td>\n    </tr>\n    <tr>\n        <td>88.0</td>\n    </tr>\n    <tr>\n        <td>23.0</td>\n    </tr>\n    <tr>\n        <td>58.0</td>\n    </tr>\n    <tr>\n        <td>96.0</td>\n    </tr>\n</table>",
                        "text/plain": "[(2.0,),\n (55.0,),\n (37.0,),\n (91.0,),\n (82.0,),\n (53.0,),\n (6.0,),\n (10.0,),\n (6.0,),\n (53.0,),\n (6.0,),\n (91.0,),\n (5.0,),\n (10.0,),\n (52.0,),\n (52.0,),\n (85.0,),\n (12.0,),\n (83.0,),\n (87.0,),\n (38.0,),\n (23.0,),\n (94.0,),\n (10.0,),\n (58.0,),\n (15.0,),\n (89.0,),\n (16.0,),\n (10.0,),\n (57.0,),\n (26.0,),\n (89.0,),\n (75.0,),\n (91.0,),\n (60.0,),\n (28.0,),\n (60.0,),\n (89.0,),\n (37.0,),\n (5.0,),\n (73.0,),\n (58.0,),\n (73.0,),\n (41.0,),\n (30.0,),\n (70.0,),\n (76.0,),\n (94.0,),\n (94.0,),\n (10.0,),\n (88.0,),\n (26.0,),\n (29.0,),\n (14.0,),\n (85.0,),\n (84.0,),\n (57.0,),\n (65.0,),\n (60.0,),\n (84.0,),\n (34.0,),\n (42.0,),\n (94.0,),\n (37.0,),\n (57.0,),\n (91.0,),\n (70.0,),\n (87.0,),\n (37.0,),\n (96.0,),\n (48.0,),\n (14.0,),\n (43.0,),\n (41.0,),\n (70.0,),\n (23.0,),\n (89.0,),\n (66.0,),\n (66.0,),\n (92.0,),\n (89.0,),\n (28.0,),\n (28.0,),\n (16.0,),\n (47.0,),\n (41.0,),\n (8.0,),\n (52.0,),\n (10.0,),\n (74.0,),\n (80.0,),\n (87.0,),\n (84.0,),\n (52.0,),\n (57.0,),\n (87.0,),\n (96.0,),\n (46.0,),\n (21.0,),\n (57.0,),\n (96.0,),\n (85.0,),\n (94.0,),\n (92.0,),\n (96.0,),\n (6.0,),\n (91.0,),\n (46.0,),\n (34.0,),\n (80.0,),\n (64.0,),\n (70.0,),\n (26.0,),\n (58.0,),\n (52.0,),\n (37.0,),\n (87.0,),\n (88.0,),\n (51.0,),\n (11.0,),\n (21.0,),\n (88.0,),\n (55.0,),\n (88.0,),\n (92.0,),\n (75.0,),\n (61.0,),\n (1.0,),\n (73.0,),\n (56.0,),\n (91.0,),\n (62.0,),\n (35.0,),\n (89.0,),\n (66.0,),\n (96.0,),\n (12.0,),\n (10.0,),\n (17.0,),\n (73.0,),\n (91.0,),\n (10.0,),\n (66.0,),\n (96.0,),\n (58.0,),\n (55.0,),\n (93.0,),\n (93.0,),\n (35.0,),\n (30.0,),\n (39.0,),\n (24.0,),\n (61.0,),\n (80.0,),\n (42.0,),\n (15.0,),\n (69.0,),\n (48.0,),\n (26.0,),\n (93.0,),\n (48.0,),\n (74.0,),\n (96.0,),\n (80.0,),\n (97.0,),\n (73.0,),\n (94.0,),\n (52.0,),\n (52.0,),\n (1.0,),\n (84.0,),\n (42.0,),\n (70.0,),\n (87.0,),\n (10.0,),\n (73.0,),\n (23.0,),\n (8.0,),\n (6.0,),\n (33.0,),\n (93.0,),\n (15.0,),\n (74.0,),\n (92.0,),\n (46.0,),\n (43.0,),\n (19.0,),\n (16.0,),\n (51.0,),\n (73.0,),\n (1.0,),\n (51.0,),\n (73.0,),\n (98.0,),\n (98.0,),\n (64.0,),\n (64.0,),\n (52.0,),\n (85.0,),\n (92.0,),\n (96.0,),\n (20.0,),\n (89.0,),\n (96.0,),\n (34.0,),\n (92.0,),\n (56.0,),\n (52.0,),\n (33.0,),\n (70.0,),\n (79.0,),\n (85.0,),\n (73.0,),\n (5.0,),\n (92.0,),\n (19.0,),\n (53.0,),\n (44.0,),\n (70.0,),\n (73.0,),\n (66.0,),\n (30.0,),\n (55.0,),\n (34.0,),\n (94.0,),\n (5.0,),\n (75.0,),\n (73.0,),\n (58.0,),\n (19.0,),\n (47.0,),\n (96.0,),\n (96.0,),\n (5.0,),\n (98.0,),\n (93.0,),\n (76.0,),\n (57.0,),\n (55.0,),\n (78.0,),\n (83.0,),\n (35.0,),\n (25.0,),\n (17.0,),\n (60.0,),\n (5.0,),\n (91.0,),\n (55.0,),\n (23.0,),\n (75.0,),\n (10.0,),\n (47.0,),\n (85.0,),\n (84.0,),\n (58.0,),\n (82.0,),\n (87.0,),\n (64.0,),\n (60.0,),\n (25.0,),\n (10.0,),\n (83.0,),\n (62.0,),\n (94.0,),\n (23.0,),\n (76.0,),\n (71.0,),\n (47.0,),\n (34.0,),\n (83.0,),\n (84.0,),\n (6.0,),\n (29.0,),\n (82.0,),\n (30.0,),\n (80.0,),\n (58.0,),\n (32.0,),\n (66.0,),\n (76.0,),\n (69.0,),\n (66.0,),\n (73.0,),\n (91.0,),\n (32.0,),\n (12.0,),\n (6.0,),\n (47.0,),\n (65.0,),\n (83.0,),\n (52.0,),\n (83.0,),\n (15.0,),\n (62.0,),\n (53.0,),\n (89.0,),\n (96.0,),\n (20.0,),\n (60.0,),\n (74.0,),\n (21.0,),\n (62.0,),\n (10.0,),\n (34.0,),\n (39.0,),\n (10.0,),\n (96.0,),\n (20.0,),\n (96.0,),\n (50.0,),\n (76.0,),\n (83.0,),\n (73.0,),\n (20.0,),\n (38.0,),\n (94.0,),\n (76.0,),\n (39.0,),\n (87.0,),\n (73.0,),\n (38.0,),\n (12.0,),\n (71.0,),\n (26.0,),\n (5.0,),\n (52.0,),\n (2.0,),\n (10.0,),\n (70.0,),\n (85.0,),\n (87.0,),\n (96.0,),\n (83.0,),\n (60.0,),\n (73.0,),\n (2.0,),\n (37.0,),\n (96.0,),\n (42.0,),\n (23.0,),\n (5.0,),\n (2.0,),\n (73.0,),\n (5.0,),\n (69.0,),\n (57.0,),\n (89.0,),\n (70.0,),\n (17.0,),\n (19.0,),\n (74.0,),\n (10.0,),\n (83.0,),\n (76.0,),\n (48.0,),\n (56.0,),\n (96.0,),\n (67.0,),\n (15.0,),\n (43.0,),\n (15.0,),\n (32.0,),\n (80.0,),\n (66.0,),\n (85.0,),\n (70.0,),\n (5.0,),\n (38.0,),\n (33.0,),\n (70.0,),\n (83.0,),\n (83.0,),\n (87.0,),\n (87.0,),\n (64.0,),\n (48.0,),\n (57.0,),\n (83.0,),\n (32.0,),\n (73.0,),\n (52.0,),\n (73.0,),\n (46.0,),\n (26.0,),\n (30.0,),\n (85.0,),\n (15.0,),\n (16.0,),\n (48.0,),\n (96.0,),\n (55.0,),\n (61.0,),\n (29.0,),\n (87.0,),\n (92.0,),\n (84.0,),\n (7.0,),\n (60.0,),\n (10.0,),\n (39.0,),\n (75.0,),\n (34.0,),\n (19.0,),\n (94.0,),\n (75.0,),\n (28.0,),\n (85.0,),\n (53.0,),\n (33.0,),\n (48.0,),\n (33.0,),\n (70.0,),\n (21.0,),\n (10.0,),\n (28.0,),\n (60.0,),\n (94.0,),\n (21.0,),\n (76.0,),\n (85.0,),\n (65.0,),\n (73.0,),\n (2.0,),\n (85.0,),\n (66.0,),\n (55.0,),\n (34.0,),\n (74.0,),\n (47.0,),\n (66.0,),\n (94.0,),\n (94.0,),\n (47.0,),\n (35.0,),\n (76.0,),\n (46.0,),\n (43.0,),\n (14.0,),\n (32.0,),\n (15.0,),\n (76.0,),\n (35.0,),\n (23.0,),\n (93.0,),\n (62.0,),\n (5.0,),\n (7.0,),\n (67.0,),\n (56.0,),\n (91.0,),\n (74.0,),\n (15.0,),\n (23.0,),\n (17.0,),\n (38.0,),\n (73.0,),\n (91.0,),\n (43.0,),\n (65.0,),\n (29.0,),\n (89.0,),\n (15.0,),\n (10.0,),\n (10.0,),\n (39.0,),\n (62.0,),\n (73.0,),\n (96.0,),\n (87.0,),\n (48.0,),\n (1.0,),\n (21.0,),\n (23.0,),\n (62.0,),\n (11.0,),\n (74.0,),\n (71.0,),\n (93.0,),\n (94.0,),\n (89.0,),\n (1.0,),\n (93.0,),\n (62.0,),\n (7.0,),\n (55.0,),\n (89.0,),\n (73.0,),\n (96.0,),\n (46.0,),\n (39.0,),\n (19.0,),\n (46.0,),\n (46.0,),\n (15.0,),\n (93.0,),\n (80.0,),\n (94.0,),\n (96.0,),\n (87.0,),\n (53.0,),\n (51.0,),\n (53.0,),\n (97.0,),\n (87.0,),\n (23.0,),\n (38.0,),\n (62.0,),\n (17.0,),\n (84.0,),\n (34.0,),\n (52.0,),\n (20.0,),\n (61.0,),\n (15.0,),\n (44.0,),\n (73.0,),\n (20.0,),\n (2.0,),\n (1.0,),\n (74.0,),\n (94.0,),\n (93.0,),\n (35.0,),\n (15.0,),\n (10.0,),\n (48.0,),\n (47.0,),\n (51.0,),\n (85.0,),\n (62.0,),\n (46.0,),\n (15.0,),\n (11.0,),\n (83.0,),\n (94.0,),\n (37.0,),\n (1.0,),\n (20.0,),\n (26.0,),\n (98.0,),\n (28.0,),\n (76.0,),\n (53.0,),\n (15.0,),\n (15.0,),\n (21.0,),\n (2.0,),\n (14.0,),\n (74.0,),\n (91.0,),\n (37.0,),\n (47.0,),\n (21.0,),\n (3.0,),\n (75.0,),\n (87.0,),\n (35.0,),\n (71.0,),\n (89.0,),\n (47.0,),\n (47.0,),\n (91.0,),\n (88.0,),\n (23.0,),\n (58.0,),\n (96.0,)]"
                    },
                    "execution_count": 69,
                    "metadata": {},
                    "output_type": "execute_result"
                }
            ],
            "source": "%%sql \nselect hardship_index \n   from chicago_socioeconomic_data CD, schools CPS where CD.ca = CPS.community_area_number and college_enrollment = 4368"
        },
        {
            "cell_type": "markdown",
            "metadata": {},
            "source": "Double-click **here** for the solution.\n\n<!-- Solution:\nNOTE: For this solution to work the CHICAGO_SOCIOECONOMIC_DATA table \n      as created in the last lab of Week 3 should already exist\n\n%%sql \nselect hardship_index \n   from chicago_socioeconomic_data CD, schools CPS \n   where CD.ca = CPS.community_area_number \n      and college_enrollment = 4368\n\n-->\n"
        },
        {
            "cell_type": "markdown",
            "metadata": {},
            "source": "### Problem 12\n\n##### Get the hardship index for the community area which has the school with the  highest enrollment.\n"
        },
        {
            "cell_type": "code",
            "execution_count": 81,
            "metadata": {},
            "outputs": [
                {
                    "name": "stdout",
                    "output_type": "stream",
                    "text": " * ibm_db_sa://kwd67393:***@824dfd4d-99de-440d-9991-629c01b3832d.bs2io90l08kqb1od8lcg.databases.appdomain.cloud:30119/bludb\nDone.\n"
                },
                {
                    "data": {
                        "text/html": "<table>\n    <tr>\n        <th>ca</th>\n        <th>community_area_name</th>\n        <th>hardship_index</th>\n    </tr>\n    <tr>\n        <td>5.0</td>\n        <td>North Center</td>\n        <td>6.0</td>\n    </tr>\n</table>",
                        "text/plain": "[(5.0, 'North Center', 6.0)]"
                    },
                    "execution_count": 81,
                    "metadata": {},
                    "output_type": "execute_result"
                }
            ],
            "source": "%sql select ca, community_area_name, hardship_index from chicago_socioeconomic_data \\\n   where ca in \\\n   ( select community_area_number from schools order by college_enrollment desc limit 1 )"
        },
        {
            "cell_type": "markdown",
            "metadata": {},
            "source": "Double-click **here** for the solution.\n\n<!-- Solution:\nNOTE: For this solution to work the CHICAGO_SOCIOECONOMIC_DATA table \n      as created in the last lab of Week 3 should already exist\n\n%sql select ca, community_area_name, hardship_index from chicago_socioeconomic_data \\\n   where ca in \\\n   ( select community_area_number from schools order by college_enrollment desc limit 1 )\n\n-->\n"
        },
        {
            "cell_type": "markdown",
            "metadata": {},
            "source": "## Summary\n\n##### In this lab you learned how to work with a real word dataset using SQL and Python. You learned how to query columns with spaces or special characters in their names and with mixed case names. You also used built in database functions and practiced how to sort, limit, and order result sets, as well as used sub-queries and worked with multiple tables.\n"
        },
        {
            "cell_type": "markdown",
            "metadata": {},
            "source": "## Author\n\n<a href=\"https://www.linkedin.com/in/ravahuja/?utm_medium=Exinfluencer&utm_source=Exinfluencer&utm_content=000026UJ&utm_term=10006555&utm_id=NA-SkillsNetwork-Channel-SkillsNetworkCoursesIBMDeveloperSkillsNetworkDB0201ENSkillsNetwork20127838-2021-01-01\" target=\"_blank\">Rav Ahuja</a>\n\n## Change Log\n\n| Date (YYYY-MM-DD) | Version | Changed By        | Change Description                        |\n| ----------------- | ------- | ----------------- | ----------------------------------------- |\n| 2021-07-09        | 2.4     | Malika            | Updated connection string                 |\n| 2021-05-19        | 2.3     | Lakshmi Holla     | Updated question                          |\n| 2021-04-20        | 2.2     | Malika            | Added the libraries                       |\n| 2020-11-27        | 2.1     | Sannareddy Ramesh | Modified data sets and added new problems |\n| 2020-08-28        | 2.0     | Lavanya           | Moved lab to course repo in GitLab        |\n\n<hr>\n\n## <h3 align=\"center\"> \u00a9 IBM Corporation 2020. All rights reserved. <h3/>\n"
        }
    ],
    "metadata": {
        "celltoolbar": "Raw Cell Format",
        "kernelspec": {
            "display_name": "Python 3.8",
            "language": "python",
            "name": "python3"
        },
        "language_info": {
            "codemirror_mode": {
                "name": "ipython",
                "version": 3
            },
            "file_extension": ".py",
            "mimetype": "text/x-python",
            "name": "python",
            "nbconvert_exporter": "python",
            "pygments_lexer": "ipython3",
            "version": "3.8.12"
        },
        "widgets": {
            "state": {},
            "version": "1.1.2"
        }
    },
    "nbformat": 4,
    "nbformat_minor": 4
}